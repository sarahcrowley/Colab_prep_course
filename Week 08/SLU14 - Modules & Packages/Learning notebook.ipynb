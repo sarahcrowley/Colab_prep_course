{
  "nbformat": 4,
  "nbformat_minor": 0,
  "metadata": {
    "kernelspec": {
      "display_name": "Python 3",
      "language": "python",
      "name": "python3"
    },
    "language_info": {
      "codemirror_mode": {
        "name": "ipython",
        "version": 3
      },
      "file_extension": ".py",
      "mimetype": "text/x-python",
      "name": "python",
      "nbconvert_exporter": "python",
      "pygments_lexer": "ipython3",
      "version": "3.7.10"
    },
    "colab": {
      "name": "Learning notebook.ipynb",
      "provenance": []
    }
  },
  "cells": [
    {
      "cell_type": "markdown",
      "metadata": {
        "id": "sWZtHrEcjodw"
      },
      "source": [
        "# SLU14 - Modules and Packages "
      ]
    },
    {
      "cell_type": "markdown",
      "metadata": {
        "id": "rvGHPieFjod0"
      },
      "source": [
        "## Modules in Python"
      ]
    },
    {
      "cell_type": "markdown",
      "metadata": {
        "id": "cP42noPBjod1"
      },
      "source": [
        "When a Python program is contained in a single file, it is known as a script. When our programs start to get bigger, in order to keep them organized and easier to maintain, we should separate logical parts of our programs by files. You may also want to use a handy function that you’ve written in several programs without copying its definition into each program.\n"
      ]
    },
    {
      "cell_type": "markdown",
      "metadata": {
        "id": "elLw5rgnjod3"
      },
      "source": [
        "To support this, Python has a way to put definitions (functions, classes, variables) in a file and use them in a script or a jupyter notebook. Such a file is called a module; definitions from a module can be imported into other modules or into the main module"
      ]
    },
    {
      "cell_type": "markdown",
      "metadata": {
        "id": "U3eXL04Kjod4"
      },
      "source": [
        "A module is a file containing Python definitions and statements. The file name is the module name with the suffix .py appended.\n",
        "For example: a file containing Python code, like number_enthusiast.py , is called a module, and its module name (given by the `__name__` attribute - example given later) would be number_enthusiast.\n",
        "\n",
        "Source: https://docs.python.org/3/tutorial/modules.html#modules"
      ]
    },
    {
      "cell_type": "markdown",
      "metadata": {
        "id": "oHZlYx8Ijod4"
      },
      "source": [
        "### An example module\n",
        "\n",
        "Let's use the fibo module:\n",
        "\n",
        "```python\n",
        "# Fibonacci numbers module\n",
        "\n",
        "def fib(n):    # write Fibonacci series up to n\n",
        "    a, b = 0, 1\n",
        "    while a < n:\n",
        "        print(a, end=' ')\n",
        "        a, b = b, a+b\n",
        "    print()\n",
        "\n",
        "def fib2(n):   # return Fibonacci series up to n\n",
        "    result = []\n",
        "    a, b = 0, 1\n",
        "    while a < n:\n",
        "        result.append(a)\n",
        "        a, b = b, a+b\n",
        "    return result\n",
        "```"
      ]
    },
    {
      "cell_type": "markdown",
      "metadata": {
        "id": "ni_NkMbwjod5"
      },
      "source": [
        "### Importing a Module\n",
        "\n",
        "Start by importing the module fibo.py, that we are going to use:"
      ]
    },
    {
      "cell_type": "code",
      "metadata": {
        "id": "mjG4aeM-jod6"
      },
      "source": [
        "import fibo"
      ],
      "execution_count": null,
      "outputs": []
    },
    {
      "cell_type": "markdown",
      "metadata": {
        "id": "UWaPgAHyjod7"
      },
      "source": [
        "Note: It is good practice but not required to place all import statements at the beginning of a module (or script)"
      ]
    },
    {
      "cell_type": "markdown",
      "metadata": {
        "id": "faf4vzIAjod7"
      },
      "source": [
        "Then we can use the functions from the fibo module in this jupyter notebook:"
      ]
    },
    {
      "cell_type": "code",
      "metadata": {
        "id": "RYFF150ljod8",
        "outputId": "d6426520-abfd-4d16-95c5-cfeb196c5118"
      },
      "source": [
        "fibo.fib(1000)"
      ],
      "execution_count": null,
      "outputs": [
        {
          "output_type": "stream",
          "text": [
            "0 1 1 2 3 5 8 13 21 34 55 89 144 233 377 610 987 \n"
          ],
          "name": "stdout"
        }
      ]
    },
    {
      "cell_type": "markdown",
      "metadata": {
        "id": "gEddCFcmjod-"
      },
      "source": [
        "There is a variant of the import statement that imports the name from a module directly. For example:\n"
      ]
    },
    {
      "cell_type": "code",
      "metadata": {
        "id": "b23wfyVPjod-"
      },
      "source": [
        "from fibo import fib, fib2"
      ],
      "execution_count": null,
      "outputs": []
    },
    {
      "cell_type": "code",
      "metadata": {
        "id": "bXPEmOkSjod_",
        "outputId": "d87e61bb-7ef7-4223-a59f-42582bcc09f3"
      },
      "source": [
        "fib(500)"
      ],
      "execution_count": null,
      "outputs": [
        {
          "output_type": "stream",
          "text": [
            "0 1 1 2 3 5 8 13 21 34 55 89 144 233 377 \n"
          ],
          "name": "stdout"
        }
      ]
    },
    {
      "cell_type": "markdown",
      "metadata": {
        "id": "hHrbutoJjod_"
      },
      "source": [
        "There is even a variant to import all names that a module defines:"
      ]
    },
    {
      "cell_type": "code",
      "metadata": {
        "id": "GnnlkckOjoeA"
      },
      "source": [
        "from fibo import *"
      ],
      "execution_count": null,
      "outputs": []
    },
    {
      "cell_type": "code",
      "metadata": {
        "id": "-2C8WZRljoeA",
        "outputId": "cbdbe32f-26bc-4380-cf10-a66c2e53334c"
      },
      "source": [
        "fib(500)"
      ],
      "execution_count": null,
      "outputs": [
        {
          "output_type": "stream",
          "text": [
            "0 1 1 2 3 5 8 13 21 34 55 89 144 233 377 \n"
          ],
          "name": "stdout"
        }
      ]
    },
    {
      "cell_type": "markdown",
      "metadata": {
        "id": "--2-9g5PjoeB"
      },
      "source": [
        "Note that in general the practice of importing * from a module or package is frowned upon, since it often causes poorly readable code. However, it is okay to use it to save time in small, non-reusable programs."
      ]
    },
    {
      "cell_type": "markdown",
      "metadata": {
        "id": "XZKSfqz_joeB"
      },
      "source": [
        "If the module name is followed by “as”, then the name following “as” is bound directly to the imported module."
      ]
    },
    {
      "cell_type": "code",
      "metadata": {
        "id": "v6UVQqGojoeC",
        "outputId": "fda5b775-481e-4f52-a36b-2161120a5d33"
      },
      "source": [
        "import fibo as fib\n",
        "fib.fib(500)"
      ],
      "execution_count": null,
      "outputs": [
        {
          "output_type": "stream",
          "text": [
            "0 1 1 2 3 5 8 13 21 34 55 89 144 233 377 \n"
          ],
          "name": "stdout"
        }
      ]
    },
    {
      "cell_type": "markdown",
      "metadata": {
        "id": "Xdh7csiejoeC"
      },
      "source": [
        "This is effectively importing the module in the same way that import fibo will do, with the only difference of it being available as fib.\n",
        "\n",
        "It can also be used when utilising from with similar effects:"
      ]
    },
    {
      "cell_type": "code",
      "metadata": {
        "id": "0Cv-jE5GjoeD",
        "outputId": "eab30a02-df12-4d0b-aeec-c92325e6656a"
      },
      "source": [
        "from fibo import fib as fibonacci\n",
        "fibonacci(500)"
      ],
      "execution_count": null,
      "outputs": [
        {
          "output_type": "stream",
          "text": [
            "0 1 1 2 3 5 8 13 21 34 55 89 144 233 377 \n"
          ],
          "name": "stdout"
        }
      ]
    },
    {
      "cell_type": "markdown",
      "metadata": {
        "id": "qwFEjnQVjoeE"
      },
      "source": [
        "### Executing modules as scripts"
      ]
    },
    {
      "cell_type": "markdown",
      "metadata": {
        "id": "qf8HsF-KjoeE"
      },
      "source": [
        "When you run a Python module with\n",
        "\n",
        "```\n",
        "python fibo.py <arguments>\n",
        "```\n",
        "\n",
        "the code in the module will be executed, **just as if you imported it** (when you import a module, it's code is run from top to bottom), but with its `__name__` attribute set to `__main__`. That means that by adding this code at the end of your module:\n",
        "\n",
        "```python\n",
        "if __name__ == \"__main__\":\n",
        "    import sys\n",
        "    fib(int(sys.argv[1]))\n",
        "```\n",
        "\n",
        "you can make the file usable as a script as well as an importable module, because the code that parses the command line only runs if the module is executed as the “main” file. We added that piece of code to the fibo module and saved it in the fibo_script.py file. When we run it, the block of code above is run:\n",
        "\n",
        "If the module is imported, the block of code above is not run (we dont see an output):"
      ]
    },
    {
      "cell_type": "code",
      "metadata": {
        "id": "12F2bTSSjoeF",
        "outputId": "bbfda678-476d-4907-b9a1-0d4db7539f8b"
      },
      "source": [
        "! python fibo_script.py 50"
      ],
      "execution_count": null,
      "outputs": [
        {
          "output_type": "stream",
          "text": [
            "0 1 1 2 3 5 8 13 21 34 \r\n"
          ],
          "name": "stdout"
        }
      ]
    },
    {
      "cell_type": "code",
      "metadata": {
        "id": "2BOuHExAjoeG"
      },
      "source": [
        "import fibo_script"
      ],
      "execution_count": null,
      "outputs": []
    },
    {
      "cell_type": "markdown",
      "metadata": {
        "id": "PNrLcvhsjoeG"
      },
      "source": [
        "### Standard Modules\n",
        "\n",
        "Python comes with a library of standard modules. Examples: `pdb`, `itertools`\n",
        "\n",
        "The Python interpreter also has a number of functions and types built into it that are always available without having to import them. Examples: `str()`, `list()`, `sorted()`\n",
        "\n",
        "Source: https://docs.python.org/3/library"
      ]
    },
    {
      "cell_type": "markdown",
      "metadata": {
        "id": "wM3QdXJNjoeH"
      },
      "source": [
        "## Packages in Python"
      ]
    },
    {
      "cell_type": "markdown",
      "metadata": {
        "id": "OSlHKCNWjoeH"
      },
      "source": [
        "Packages in python are directories, that contain modules.    \n",
        "We can also have a package of packages.\n",
        "\n",
        "Packages are a way of structuring Python’s module namespace by using “dotted module names”. For example, the module name A.B designates a submodule named B in a package named A."
      ]
    },
    {
      "cell_type": "markdown",
      "metadata": {
        "id": "OJweDUCqjoeI"
      },
      "source": [
        "Suppose you want to design a collection of modules (a “package”) for the uniform handling of sound files and sound data. There are many different sound file formats (usually recognized by their extension, for example: .wav, .aiff, .au), so you may need to create and maintain a growing collection of modules for the conversion between the various file formats. There are also many different operations you might want to perform on sound data (such as mixing, adding echo, applying an equalizer function, creating an artificial stereo effect), so you may find yourself writing a never-ending stream of modules to perform these operations. Here’s a possible structure for your package (expressed in terms of a hierarchical filesystem):\n",
        "\n",
        "```code\n",
        "sound/                          Top-level package\n",
        "      __init__.py               Initialize the sound package\n",
        "      formats/                  Subpackage for file format conversions\n",
        "              __init__.py\n",
        "              wavread.py\n",
        "              wavwrite.py\n",
        "              aiffread.py\n",
        "              aiffwrite.py\n",
        "              auread.py\n",
        "              auwrite.py\n",
        "              ...\n",
        "      effects/                  Subpackage for sound effects\n",
        "              __init__.py\n",
        "              echo.py\n",
        "              surround.py\n",
        "              reverse.py\n",
        "              ...\n",
        "      filters/                  Subpackage for filters\n",
        "              __init__.py\n",
        "              equalizer.py\n",
        "              vocoder.py\n",
        "              karaoke.py\n",
        "              ...\n",
        "```"
      ]
    },
    {
      "cell_type": "markdown",
      "metadata": {
        "id": "P3_xASWOjoeJ"
      },
      "source": [
        "**IMPORTANT** \n",
        "\n",
        "What distinguishes a python package from an ordinary directory is an `__init__.py` file inside of the corresponding directory of the package. In the simplest case, `__init__.py` can just be an empty file, but this file tells python that we are looking at a package. "
      ]
    },
    {
      "cell_type": "markdown",
      "metadata": {
        "id": "yYUMe0HkjoeK"
      },
      "source": [
        "Users of the package can import individual modules from the package, for example:"
      ]
    },
    {
      "cell_type": "code",
      "metadata": {
        "id": "JITUbScFjoeL"
      },
      "source": [
        "import sound.effects.echo"
      ],
      "execution_count": null,
      "outputs": []
    },
    {
      "cell_type": "markdown",
      "metadata": {
        "id": "7fE1ScbKjoeL"
      },
      "source": [
        "This loads the submodule sound.effects.echo. It must be referenced with its full name.\n",
        "\n"
      ]
    },
    {
      "cell_type": "code",
      "metadata": {
        "id": "Qt-A53EhjoeM"
      },
      "source": [
        "sound.effects.echo.echofilter(input='', output='', delay=0.7, atten=4)"
      ],
      "execution_count": null,
      "outputs": []
    },
    {
      "cell_type": "code",
      "metadata": {
        "id": "fG6W1HxbjoeM"
      },
      "source": [
        "from sound.effects import echo"
      ],
      "execution_count": null,
      "outputs": []
    },
    {
      "cell_type": "markdown",
      "metadata": {
        "id": "9Ok5qdocjoeN"
      },
      "source": [
        "This also loads the submodule echo, and makes it available without its package prefix, so it can be used as follows:\n"
      ]
    },
    {
      "cell_type": "code",
      "metadata": {
        "id": "HlOOZ3kUjoeN"
      },
      "source": [
        "echo.echofilter(input='', output='', delay=0.7, atten=4)"
      ],
      "execution_count": null,
      "outputs": []
    },
    {
      "cell_type": "markdown",
      "metadata": {
        "id": "BGEA_a7LjoeO"
      },
      "source": [
        "Yet another variation is to import the desired function or variable directly:"
      ]
    },
    {
      "cell_type": "code",
      "metadata": {
        "id": "1Rb1FwbsjoeO"
      },
      "source": [
        "from sound.effects.echo import echofilter"
      ],
      "execution_count": null,
      "outputs": []
    },
    {
      "cell_type": "code",
      "metadata": {
        "id": "zHIgb69KjoeO"
      },
      "source": [
        "echofilter(input='', output='', delay=0.7, atten=4)"
      ],
      "execution_count": null,
      "outputs": []
    },
    {
      "cell_type": "markdown",
      "metadata": {
        "id": "fjq00_38joeP"
      },
      "source": [
        "Note that when using `from package import item`, the `item` can be either a submodule (or subpackage) of the package, or some other name defined in the package, like a function, class or variable."
      ]
    },
    {
      "cell_type": "markdown",
      "metadata": {
        "id": "67ufmL8UjoeP"
      },
      "source": [
        "Contrarily, when using syntax like import item.subitem.subsubitem, each item except for the last must be a package; the last item can be a module or a package but can’t be a class or function or variable defined in the previous item."
      ]
    },
    {
      "cell_type": "markdown",
      "metadata": {
        "id": "MxHIA-zKjoeP"
      },
      "source": [
        "## Managing Packages with pip and venv\n",
        "\n",
        "Adapted from : <https://docs.python.org/3/tutorial/venv.html>\n",
        "\n",
        "Python applications will often use packages and modules that don’t come as part of the standard library, or that you have not developed yourself.\n",
        "\n",
        "To use these packages in our programs, we need two things:\n",
        "* create and activate a virtual environment that will be used to contain the packages `python3.7 -m venv <virtual environment location>/<virtual environment name>`\n",
        "* install the packages using pip `pip install <package name>`\n",
        " \n",
        "Different applications should use different virtual environments. \n",
        "\n",
        "#### Why should we use a virtual environment at all in Unix-based OS's (like Mac OS and Ubuntu)?\n",
        "\n",
        "Installing Python packages globally (i.e. outside of a virtual environment) can break system tools and may leave your system in an inconsistent state. Linux uses Python internally and installing packages globally may cause incompatibilities with other packages, causing some core system tools to stop working.\n"
      ]
    },
    {
      "cell_type": "markdown",
      "metadata": {
        "id": "8RFL4kyQjoeQ"
      },
      "source": [
        "### Installing packages on our environments"
      ]
    },
    {
      "cell_type": "markdown",
      "metadata": {
        "id": "BX3DF8FgjoeR"
      },
      "source": [
        "Let's use the numpy package as an example. \n",
        "We can install numpy by running `pip install numpy` in a terminal [**first making sure our virtual environment is active**](https://github.com/LDSSA/ds-prep-course-2021#15-creating-a-virtual-environment)."
      ]
    },
    {
      "cell_type": "code",
      "metadata": {
        "id": "uENa_tFBjoeR",
        "outputId": "2e5f3757-d1ac-45c9-a748-50970630d866"
      },
      "source": [
        "! pip install numpy"
      ],
      "execution_count": null,
      "outputs": [
        {
          "output_type": "stream",
          "text": [
            "Requirement already satisfied: numpy in /Users/mig/.virtualenvs/slu14/lib/python3.7/site-packages (1.18.0)\n",
            "\u001b[33mYou are using pip version 19.0.3, however version 21.1.1 is available.\n",
            "You should consider upgrading via the 'pip install --upgrade pip' command.\u001b[0m\n"
          ],
          "name": "stdout"
        }
      ]
    },
    {
      "cell_type": "code",
      "metadata": {
        "id": "rdeo_fCcjoeS"
      },
      "source": [
        "import numpy"
      ],
      "execution_count": null,
      "outputs": []
    },
    {
      "cell_type": "markdown",
      "metadata": {
        "id": "UpBf7OlojoeS"
      },
      "source": [
        "We can also install packages in batches by using a `requirements` file. You are already familiar with the unix command to do that, you run it every week.   \n",
        "`pip install -r requirements.txt`"
      ]
    },
    {
      "cell_type": "markdown",
      "metadata": {
        "id": "JKfiB4u7joeT"
      },
      "source": [
        "Let's see how this week's `requirements.txt` file looks like."
      ]
    },
    {
      "cell_type": "code",
      "metadata": {
        "id": "vyt5HjKhjoeU",
        "outputId": "f887239c-5652-4edb-85cf-e77bdcfd84ca"
      },
      "source": [
        "!cat requirements.txt"
      ],
      "execution_count": null,
      "outputs": [
        {
          "output_type": "stream",
          "text": [
            "nbgrader==0.6.1\r\n",
            "matplotlib==3.1.2\r\n",
            "numpy==1.18\r\n"
          ],
          "name": "stdout"
        }
      ]
    },
    {
      "cell_type": "markdown",
      "metadata": {
        "id": "9hoqZOPjjoeU"
      },
      "source": [
        "It has the names of each package we want to install and also the version. "
      ]
    },
    {
      "cell_type": "markdown",
      "metadata": {
        "id": "9vN66yQTjoeV"
      },
      "source": [
        "## Recap\n",
        "\n",
        "* modules are files ending in `.py`\n",
        "* some modules come with python itself\n",
        "* packages are directories that \n",
        "    * contain a `__init__.py` file\n",
        "    * can contain modules\n",
        "    * can contain other packages\n",
        "* some packages are contained in a particular Python application\n",
        "* some packages are installed with pip in a virtual environment and used in another Python application or script"
      ]
    },
    {
      "cell_type": "markdown",
      "metadata": {
        "id": "a42bKWSgjoeV"
      },
      "source": [
        "## Further Reading\n",
        "\n",
        "There's more to modules and packages than what's been covered here, but I hope this is just enough to cover your needs for the foreseeable future.\n",
        "\n",
        "If you'd like to learn more, I recommend that you read the [modules tutorial](https://docs.python.org/3/tutorial/modules.html) from the python documentation. \n",
        "\n",
        "The book \"Learning Python\" by Mark Lutz has a much more in-depth cover on this in chapters 22 to 25."
      ]
    }
  ]
}