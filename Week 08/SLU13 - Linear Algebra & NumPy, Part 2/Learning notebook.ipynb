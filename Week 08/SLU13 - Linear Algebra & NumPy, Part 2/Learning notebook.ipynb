{
  "nbformat": 4,
  "nbformat_minor": 0,
  "metadata": {
    "kernelspec": {
      "display_name": "Python 3",
      "language": "python",
      "name": "python3"
    },
    "language_info": {
      "codemirror_mode": {
        "name": "ipython",
        "version": 3
      },
      "file_extension": ".py",
      "mimetype": "text/x-python",
      "name": "python",
      "nbconvert_exporter": "python",
      "pygments_lexer": "ipython3",
      "version": "3.8.2"
    },
    "colab": {
      "name": "Learning notebook.ipynb",
      "provenance": []
    }
  },
  "cells": [
    {
      "cell_type": "markdown",
      "metadata": {
        "id": "-a4MA7oivdLa"
      },
      "source": [
        "# SLU13 - Linear Algebra & NumPy, Part 2"
      ]
    },
    {
      "cell_type": "markdown",
      "metadata": {
        "id": "_K3L0nTIvdLf"
      },
      "source": [
        "In this notebook we will be covering the following:   \n",
        "- **Matrix multiplication**: multiplication of vectors and matrices, properties of matrix multiplication and the transpose, and application in NumPy;\n",
        "- **The inverse of a matrix**: the intuitions behind the inverse, and how to determine it (if it exists!) using NumPy;\n",
        "- **Additional `numpy.ndarray` methods**: `.min()`, `.max()`, `.sum()` and `.sort()`;\n",
        "- **(optional section) Systems of linear equations**\n",
        "- **(optional section) Eigenvalues and eigenvectors**"
      ]
    },
    {
      "cell_type": "markdown",
      "metadata": {
        "id": "AORxyR1VvdLg"
      },
      "source": [
        "**What's in this notebook:**\n",
        "\n",
        "1. [Matrix multiplication](#1.-Matrix-multiplication)\n",
        "\n",
        "  1.1 [Understanding matrix multiplication](#1.1-Understanding-matrix-multiplication)  \n",
        "  1.2 [Properties of matrix multiplication](#1.2-Properties-of-matrix-multiplication)  \n",
        "  1.3 [Transpose multiplication rules](#1.3-Transpose-multiplication-rules)  \n",
        "  1.4 [Matrix multiplication using NumPy](#1.4-Matrix-multiplication-using-NumPy)\n",
        "\n",
        "\n",
        "2. [The inverse](#2.-The-inverse)\n",
        "\n",
        "  2.1 [Finding the inverse of a matrix](#2.1-Finding-the-inverse-of-a-matrix)  \n",
        "  2.2 [Using NumPy to find the inverse of a matrix](#2.2-Using-NumPy-to-find-the-inverse-of-a-matrix)\n",
        "\n",
        "\n",
        "3. [Additional NumPy methods](#3.-Additional-NumPy-methods)\n",
        "\n",
        "  3.1 [`ndarray.max()` and `ndarray.min()`](#3.1-ndarray.max()-and-ndarray.min())  \n",
        "  3.2 [`ndarray.sort()` and `numpy.sort()`](#3.2-ndarray.sort()-and-numpy.sort())  \n",
        "  3.3 [`ndarray.sum()`](#3.3-ndarray.sum())"
      ]
    },
    {
      "cell_type": "markdown",
      "metadata": {
        "id": "UTCPsr56vdLi"
      },
      "source": [
        "### Imports"
      ]
    },
    {
      "cell_type": "code",
      "metadata": {
        "id": "KsNeLkBHvdLi"
      },
      "source": [
        "import numpy as np"
      ],
      "execution_count": null,
      "outputs": []
    },
    {
      "cell_type": "markdown",
      "metadata": {
        "id": "klGtoSAMvdLk"
      },
      "source": [
        "<img src=\"https://github.com/LDSSA/ds-prep-course-2021/blob/main/Week%2008/SLU13%20-%20Linear%20Algebra%20%26%20NumPy%2C%20Part%202/media/machine.gif?raw=1\"/>\n",
        "\n",
        "<br>\n",
        "\n",
        "<center><i>How this dark meowgic works?!</i> 🙀😼</center>"
      ]
    },
    {
      "cell_type": "markdown",
      "metadata": {
        "id": "RUtyUAOrvdLl"
      },
      "source": [
        "---"
      ]
    },
    {
      "cell_type": "markdown",
      "metadata": {
        "id": "iJXdyV-FvdLl"
      },
      "source": [
        "In SLU12 we learned the most basic concepts of linear algebra: what are vectors, matrices, their basic operations, and applying all that with `ndarrays`.\n",
        "\n",
        "I promised that if you worked hard enough in SLUs 12 and 13, you'd be able to read the matrix form of the *multiple linear regression* solution:\n",
        "\n",
        "$$\\mathbf{\\beta} = (X^TX)^{-1}(X^T\\mathbf{y})$$\n",
        "\n",
        "You can already see that there is some matrix $\\mathbf{X}$ and some vectors $\\mathbf{\\beta}$ and $\\mathbf{y}$ inside that equation, as well as the transpose of $\\mathbf{X}$. But how would you find the inverse (that exponent $^{-1}$ over there), and how do we multiply all those matrices? All the answers you need will become clear throughout this notebook.\n",
        "\n",
        "---\n",
        "\n",
        "⚠️ <i>Although sections 4 and 5 are optional, I suggest you go through them, when you have time. Understanding the link between matrices and linear systems, and what are eigenvalues and eigenvectors, are key concepts in data science.</i>\n",
        "\n",
        "---"
      ]
    },
    {
      "cell_type": "markdown",
      "metadata": {
        "id": "HOVbkiZpvdLm"
      },
      "source": [
        "<center>You ready?</center>\n",
        "\n",
        "<img src=\"https://github.com/LDSSA/ds-prep-course-2021/blob/main/Week%2008/SLU13%20-%20Linear%20Algebra%20%26%20NumPy%2C%20Part%202/media/ready.gif?raw=1\"/>"
      ]
    },
    {
      "cell_type": "markdown",
      "metadata": {
        "id": "s0wJF0EIvdLn"
      },
      "source": [
        "<center>Let's do thiiiiiiiiiiiiiiiiiiiis.</center>"
      ]
    },
    {
      "cell_type": "markdown",
      "metadata": {
        "id": "-r0oZ8jBvdLn"
      },
      "source": [
        "---"
      ]
    },
    {
      "cell_type": "markdown",
      "metadata": {
        "id": "bStKcFJ-vdLo"
      },
      "source": [
        "## 1. Matrix multiplication"
      ]
    },
    {
      "cell_type": "markdown",
      "metadata": {
        "id": "vpP3xjV2vdLo"
      },
      "source": [
        "Now that we aced dot product and linear combinations on the last SLU, matrix multiplication will be a piece of cake. Oh and remember, matrices are just collections of vectors, column vectors..."
      ]
    },
    {
      "cell_type": "markdown",
      "metadata": {
        "id": "ge-78Sq3vdLp"
      },
      "source": [
        "### 1.1 Understanding matrix multiplication"
      ]
    },
    {
      "cell_type": "markdown",
      "metadata": {
        "id": "OsW1jF3cvdLp"
      },
      "source": [
        "#### 1.1.1 General formula for matrix multiplication"
      ]
    },
    {
      "cell_type": "markdown",
      "metadata": {
        "id": "L1EG5BIYvdLq"
      },
      "source": [
        "<a name=\"vector_def\"></a>\n",
        "<div class=\"alert alert-block alert-info\">\n",
        "    The result of the <b>multiplication between a matrix</b> $\\mathbf{A}$, of size $m\\times n$, <b>and a matrix</b> $\\mathbf{B}$, of size $n\\times k$, is the matrix $\\mathbf{C}$, of size $m\\times k$, where each entry $c_{i,j}$ corresponds to the dot product between the row vector in row $i$ of $\\mathbf{A}$ and the column vector in column $j$ of $\\mathbf{B}$:\n",
        "    <br>\n",
        "    <br>\n",
        "    $$\\mathbf{C} = \\mathbf{A} \\mathbf{B} = \n",
        "        \\begin{bmatrix}\n",
        "            c_{1,1} & c_{1,2} & \\dots & c_{1,k}\\\\\n",
        "            \\vdots & \\vdots & \\ddots & \\ddots\\\\\n",
        "            c_{m,1} & c_{m,2} & \\dots & c_{m,k}\n",
        "        \\end{bmatrix},\\;\\;\n",
        "        \\text{where}\\;\n",
        "    c_{i,j} = (\\text{row }i\\text{ in }\\mathbf{A})\\cdot (\\text{column }j\\text{ in }\\mathbf{B}) = a_{i,1}b_{1,j} + a_{i,2}b_{2,j} + \\dots + a_{i,n}b_{n,j}\n",
        "    $$\n",
        "    <br>\n",
        "</div>\n"
      ]
    },
    {
      "cell_type": "markdown",
      "metadata": {
        "id": "OupB27vQvdLr"
      },
      "source": [
        "Let's go through the formula step by step:\n",
        "\n",
        "---\n",
        "\n",
        "**STEP 1**: Compute the dot product between **row 1** in $\\mathbf{A}$ and **each column vector** in $\\mathbf{B}$:\n",
        "\n",
        "$\\;\\;\\;\\;c_{1,1} = (\\text{row 1 in }\\mathbf{A}) \\cdot (\\text{column 1 in }\\mathbf{B})$\n",
        "\n",
        "$\\;\\,\\;\\;c_{1,2} = (\\text{row 1 in }\\mathbf{A}) \\cdot (\\text{column 2 in }\\mathbf{B})$\n",
        "\n",
        "$\\;\\;\\;\\;\\vdots$\n",
        "\n",
        "$\\;\\;\\;\\;c_{1,k} = (\\text{row 1 in }\\mathbf{A}) \\cdot (\\text{column }k\\text{ in }\\mathbf{B})$\n",
        "\n",
        "At this point, we have filled the **first row** in $\\mathbf{C}$, as follows:\n",
        "\n",
        "$\\;\\;\\;(\\text{row 1 in }\\mathbf{C}) = \\begin{bmatrix} c_{1,1} & c_{1,2} & \\dots & c_{1,k}\\end{bmatrix}$\n",
        "\n",
        "---\n",
        "\n",
        "**STEP 2**: Repeate step 1 for **row 2** in $\\mathbf{A}$ and **each column vector** in $\\mathbf{B}$, until we fill the **second row** in $\\mathbf{C}$. \n",
        "\n",
        "---\n",
        "\n",
        "**STEP 3**: **Repeat** the same process for each remaining row of $\\mathbf{A}$.\n",
        "\n",
        "Our last element in matrix $\\mathbf{C}$ will correspond to the dot product between the last row vector in $\\mathbf{A}$ and the last column vector in $\\mathbf{B}$:\n",
        "\n",
        "$\\;\\;\\;c_{m,k} = (\\text{row }m\\text{ in }\\mathbf{A}) \\cdot (\\text{column }k\\text{ in }\\mathbf{B})$\n",
        "\n",
        "---"
      ]
    },
    {
      "cell_type": "markdown",
      "metadata": {
        "id": "wZXmx_hFvdLs"
      },
      "source": [
        "That's it. The outcome of multiplying two matrices $\\mathbf{A}$ (size $m\\times n$) and $\\mathbf{B}$ (size $n\\times k$) is nothing more than a matrix $\\mathbf{C}$ of size $m\\times k$ where each element corresponds to the dot product between each row in $\\mathbf{A}$ and each column in $\\mathbf{B}$:\n",
        "\n",
        "<br>\n",
        "\n",
        "$$\\mathbf{C} = \\mathbf{A}\\mathbf{B} = \n",
        "        \\begin{bmatrix}\n",
        "            a_{1,1}b_{1,1} + a_{1,2}b_{2,1} + ... + a_{1,n}b_{n,1} & \\dots & a_{1,1}b_{1,k} + a_{1,2}b_{2,k} + ... + a_{1,n}b_{n,k}\\\\\n",
        "            \\vdots & \\ddots & \\vdots\\\\\n",
        "            a_{m,1}b_{1,1} + a_{m,2}b_{2,1} + ... + a_{m,n}b_{n,1} & \\dots & a_{m,1}b_{1,k} + a_{m,2}b_{2,k} + ... + a_{m,n}b_{n,k}\\\\\n",
        "        \\end{bmatrix} =\n",
        "        \\begin{bmatrix}\n",
        "            c_{1,1} & c_{1,2} & \\dots & c_{1,k}\\\\\n",
        "            \\vdots & \\vdots & \\ddots & \\vdots\\\\\n",
        "            c_{m,1} & c_{m,2} & \\dots & c_{m,k}\n",
        "        \\end{bmatrix}\n",
        "        $$\n",
        "\n",
        "<br>\n",
        "I'm giving you all that \"boring\" mathematical notation on purpose. You might see a lot of it when reading about algorithms and other mathematical topics. 😉"
      ]
    },
    {
      "cell_type": "markdown",
      "metadata": {
        "id": "sMA71MGBvdLt"
      },
      "source": [
        "---"
      ]
    },
    {
      "cell_type": "markdown",
      "metadata": {
        "id": "CNWR6OVcvdLu"
      },
      "source": [
        "❗️ Remember you can **only** multiply $\\mathbf{A}$ by $\\mathbf{B}$ if the number of columns in $\\mathbf{A}$ is equal to the number of rows in $\\mathbf{B}$. It's easy to see why. Just remember that the dot product cannot be calculated for vectors of different dimensions.\n",
        "\n",
        "The output matrix will always have the same number of rows as the first matrix (or vector) and the same number of columns as the second matrix (or vector).\n",
        "\n",
        "If you calculate the matrix product between a $1\\times n$ vector and a $n\\times 1$ vector, you get the dot product between vectors that you learned in SLU12 (scalar product). If you calculate the matrix product between a $n\\times 1$ vector and a $1\\times n$ vector, you get an $n\\times n$ square matrix.\n",
        "\n",
        "❗️ The order in matrix multiplication matters!"
      ]
    },
    {
      "cell_type": "markdown",
      "metadata": {
        "id": "1nQVDEhCvdLv"
      },
      "source": [
        "---"
      ]
    },
    {
      "cell_type": "markdown",
      "metadata": {
        "id": "z-qOCr9ivdLv"
      },
      "source": [
        "#### 1.1.2 Example:\n",
        "\n",
        "\n",
        "What's the result of multiplying $\\mathbf{A}$ by $\\mathbf{B}$, knowing that $\\mathbf{A} = \\begin{bmatrix} -1 & 2\\\\ 4 & 6\\end{bmatrix}$ and $\\mathbf{B} = \\begin{bmatrix} 0 & 3 & 6\\\\ -2 & 0 & -1\\end{bmatrix}$?\n",
        "\n",
        "Let's call $\\mathbf{M}$, for \"Mathmagic\", to the output of our matrix multiplication, $\\mathbf{M} = \\mathbf{A}\\mathbf{B}$. Because $\\mathbf{A}$ is of size $2\\times 2$ and $\\mathbf{B}$ is of size $2\\times 3$, the resulting \"mathmagical\" matrix $\\mathbf{M}$ will have size $2\\times 3$.\n",
        "\n",
        "You can fill the matrix step by step, using the formula with the dot products:\n",
        "<img src=\"https://github.com/LDSSA/ds-prep-course-2021/blob/main/Week%2008/SLU13%20-%20Linear%20Algebra%20%26%20NumPy%2C%20Part%202/media/matrix_multiplication.PNG?raw=1\" width=\"360\"/>\n",
        "\n",
        "Or just fill the dot products on the output matrix all at once:\n",
        "\n",
        "$$\\mathbf{M} = \n",
        "    \\begin{bmatrix}\n",
        "        -1\\times 0 + 2\\cdot (-2)  &  -1\\times 3 + 2\\times 0  &  -1\\times 6 + 2\\times (-1)\\\\\n",
        "        4\\times 0 + 6\\cdot (-2)  &  4\\times 3 + 6\\times 0  &  4\\times 6 + 6\\times (-1)\n",
        "    \\end{bmatrix} =\n",
        "    \\begin{bmatrix}\n",
        "        -4 & -3 & -8\\\\\n",
        "        -12 & 12 & 18\n",
        "    \\end{bmatrix}\n",
        "$$"
      ]
    },
    {
      "cell_type": "markdown",
      "metadata": {
        "id": "A6WGVkpfvdLw"
      },
      "source": [
        "---"
      ]
    },
    {
      "cell_type": "markdown",
      "metadata": {
        "id": "EgjoS0bxvdLx"
      },
      "source": [
        "<img src=\"https://github.com/LDSSA/ds-prep-course-2021/blob/main/Week%2008/SLU13%20-%20Linear%20Algebra%20%26%20NumPy%2C%20Part%202/media/what_if.jpg?raw=1\" width=\"500\"/>"
      ]
    },
    {
      "cell_type": "markdown",
      "metadata": {
        "id": "hbjPHUAivdLx"
      },
      "source": [
        "---"
      ]
    },
    {
      "cell_type": "markdown",
      "metadata": {
        "id": "G0ekrmdvvdLy"
      },
      "source": [
        "#### 1.1.3 Matrix multiplication and linear combinations"
      ]
    },
    {
      "cell_type": "markdown",
      "metadata": {
        "id": "llhBv_8uvdLy"
      },
      "source": [
        "You should remember from SLU12 that linear combinations are things like $c\\cdot \\mathbf{u} + d\\cdot \\mathbf{v}$, where $\\mathbf{u}$ and $\\mathbf{v}$ are vectors, and $c$ and $d$ are real numbers (scalars).\n",
        "\n",
        "Consider the matrices \n",
        "$\\mathbf{A} = \n",
        "    \\begin{bmatrix}\n",
        "        a_{1,1} & a_{1,2}\\\\\n",
        "        a_{2,1} & a_{2,2}\\\\\n",
        "    \\end{bmatrix}\n",
        "$\n",
        "and\n",
        "$\\mathbf{B} = \n",
        "    \\begin{bmatrix}\n",
        "        b_{1,1} & b_{1,2}\\\\\n",
        "        b_{2,1} & b_{2,2}\\\\\n",
        "    \\end{bmatrix}\n",
        "$.\n",
        "\n",
        "---\n",
        "\n",
        "```\n",
        "Instructor: - \"Can we multiply A by B?\"\n",
        "Student: - \"Yes!\"\n",
        "Instructor: - \"Why?\"\n",
        "Student: - \"Because the number of columns in A is equal to the number of rows in B!\n",
        "Instructor: - \"Precisely!\"\n",
        "```\n",
        "\n",
        "---"
      ]
    },
    {
      "cell_type": "markdown",
      "metadata": {
        "id": "gwNdkNOavdLz"
      },
      "source": [
        "We already know that one way we could multiply $\\mathbf{A}$ by $\\mathbf{B}$ is to compute the dot product between each row vector in $\\mathbf{A}$ and each column vector in $\\mathbf{B}$ .\n",
        "\n",
        "Think about column 1 of matrix $\\mathbf{B}$. Let's say we're very tired and just want to get the first column of $\\mathbf{B}$ before taking a nap.\n",
        "\n",
        "So let's pretend we lost the entries in column 2:\n",
        "\n",
        "$\n",
        "    \\begin{bmatrix}\n",
        "        a_{1,1} & a_{1,2}\\\\\n",
        "        a_{2,1} & a_{2,2}\\\\\n",
        "    \\end{bmatrix}\n",
        "    \\begin{bmatrix}\n",
        "        b_{1,1} & ?\\\\\n",
        "        b_{2,1} & ?\\\\\n",
        "    \\end{bmatrix}\n",
        "$\n",
        "\n",
        "We'll replace every value we can't determine without the second column of $\\mathbf{B}$, by a question mark, $?$.\n",
        "\n",
        "What part of the final matrix can we fill with the available column?\n",
        "\n",
        "$\n",
        "    \\begin{bmatrix}\n",
        "        a_{1,1} & a_{1,2}\\\\\n",
        "        a_{2,1} & a_{2,2}\\\\\n",
        "    \\end{bmatrix}\n",
        "    \\begin{bmatrix}\n",
        "        b_{1,1} & ?\\\\\n",
        "        b_{2,1} & ?\\\\\n",
        "    \\end{bmatrix} = \n",
        "    \\begin{bmatrix}\n",
        "        a_{1,1}b_{1,1} + a_{1,2}b_{2,1} & a_{1,1} ? + a_{1,2} ?\\\\\n",
        "        a_{2,1}b_{1,1} + a_{2,2}b_{2,1} & a_{2,1} ? + a_{2,2} ?\\\\\n",
        "    \\end{bmatrix} = \n",
        "    \\begin{bmatrix}\n",
        "        a_{1,1}b_{1,1} + a_{1,2}b_{2,1} & ?\\\\\n",
        "        a_{2,1}b_{1,1} + a_{2,2}b_{2,1} & ?\\\\\n",
        "    \\end{bmatrix}\\;\\;\\;\\;(1)\n",
        "$"
      ]
    },
    {
      "cell_type": "markdown",
      "metadata": {
        "id": "fEjaPuVEvdL1"
      },
      "source": [
        "---"
      ]
    },
    {
      "cell_type": "markdown",
      "metadata": {
        "id": "IABGHBvPvdL2"
      },
      "source": [
        "Using only the first column in $\\mathbf{B}$, we were able to fill the first column of the output matrix. This is the same as having multiplied $\\mathbf{A}$ by the column vector $\\begin{bmatrix}b_{1,1}\\\\ b_{2,1}\\end{bmatrix}$.\n",
        "\n",
        "But what's really interesting is that if we had used only the second column of $\\mathbf{B}$ we would had filled only the second column in the output matrix. 😮\n",
        "\n",
        "What's actually happening in the output matrix is that we're creating **linear combinations** of the columns of $\\mathbf{A}$.\n",
        "\n",
        "Notice that we can rearrange the resulting column as follows:\n",
        "\n",
        "$b_{1,1}a_{1,1} + b_{2,1}a_{1,2}$\n",
        "\n",
        "$b_{1,1}a_{2,1} + b_{2,1}a_{2,2}$"
      ]
    },
    {
      "cell_type": "markdown",
      "metadata": {
        "id": "VU9UWXWJvdL4"
      },
      "source": [
        "If we consider the column vectors of $\\mathbf{A}$, $\\begin{bmatrix}a_{1,1}\\\\ a_{2,1}\\end{bmatrix}$ and $\\begin{bmatrix}a_{1,2}\\\\ a_{2,2}\\end{bmatrix}$, we can see that what we're doing is simply summing $b_{1,1}\\cdot \\begin{bmatrix}a_{1,1}\\\\ a_{2,1}\\end{bmatrix}$ with $b_{2,1}\\cdot \\begin{bmatrix}a_{1,2}\\\\ a_{2,2}\\end{bmatrix}$ yielding:\n",
        "\n",
        "$b_{1,1}\\cdot \\begin{bmatrix}a_{1,1}\\\\ a_{2,1}\\end{bmatrix} + b_{2,1}\\cdot \\begin{bmatrix}a_{1,2}\\\\ a_{2,2}\\end{bmatrix}$\n",
        "\n",
        "which gets us back to the first column $(1)$ in our result matrix:\n",
        "\n",
        "$\n",
        "    \\begin{bmatrix}\n",
        "        a_{1,1}b_{1,1} + a_{1,2}b_{2,1}\\\\\n",
        "        a_{2,1}b_{1,1} + a_{2,2}b_{2,1}\\\\\n",
        "    \\end{bmatrix}\n",
        "$"
      ]
    },
    {
      "cell_type": "markdown",
      "metadata": {
        "id": "G1aAV3WCvdL5"
      },
      "source": [
        "---"
      ]
    },
    {
      "cell_type": "markdown",
      "metadata": {
        "id": "qngwx0x-vdL5"
      },
      "source": [
        "So, when multiplying a matrix $\\mathbf{A}$ by a matrix $\\mathbf{B}$, you get a matrix where each column is a linear combination of the column vectors of $\\mathbf{A}$, using the scalars of each column in $\\mathbf{B}$."
      ]
    },
    {
      "cell_type": "markdown",
      "metadata": {
        "id": "f7U6bX_xvdL6"
      },
      "source": [
        "---"
      ]
    },
    {
      "cell_type": "markdown",
      "metadata": {
        "id": "DwvRvI-8vdL6"
      },
      "source": [
        "<center>Generally speaking, the columns of the matrix product $\\mathbf{A}\\mathbf{B}$ are linear combinations of the columns of the first matrix, $\\mathbf{A}$.</center>\n",
        "\n",
        "<center>Similarly, the rows of the product $\\mathbf{A}\\mathbf{B}$ are linear combinations of the rows of the second matrix, $\\mathbf{B}$.</center>\n",
        "<br>\n",
        "\n",
        "<img src=\"https://github.com/LDSSA/ds-prep-course-2021/blob/main/Week%2008/SLU13%20-%20Linear%20Algebra%20%26%20NumPy%2C%20Part%202/media/surprised.gif?raw=1\" width=\"350\"/>\n",
        "\n",
        "<br>\n",
        "\n",
        "<center>Take a moment to meditate on that, before moving on.</center>\n",
        "\n",
        "<br>\n",
        "\n",
        "<center>Oh, and here's a <a href=\"https://eli.thegreenplace.net/2015/visualizing-matrix-multiplication-as-a-linear-combination/\">visual explanation</a> that might help you.</center>"
      ]
    },
    {
      "cell_type": "markdown",
      "metadata": {
        "id": "YCn4gN_6vdL7"
      },
      "source": [
        "---"
      ]
    },
    {
      "cell_type": "markdown",
      "metadata": {
        "id": "7QgRmmOQvdL7"
      },
      "source": [
        "> 📝 **Pen and paper exercise 1**: Grab a pen and a piece of paper and determine $\\begin{bmatrix} 0\\\\ 1\\end{bmatrix}\\begin{bmatrix}-1 & 2\\end{bmatrix}$"
      ]
    },
    {
      "cell_type": "markdown",
      "metadata": {
        "id": "iArZvxygvdL7"
      },
      "source": [
        "### 1.2 Properties of matrix multiplication"
      ]
    },
    {
      "cell_type": "markdown",
      "metadata": {
        "id": "-KTyqPbrvdL8"
      },
      "source": [
        "Don't worry about memorizing all those properties, just check them and save them for your reference:\n",
        "\n",
        "$\\;\\;\\text{1. }\\;\\; \\mathbf{A}(\\mathbf{B}\\mathbf{C}) = (\\mathbf{A}\\mathbf{B})\\mathbf{C}$\n",
        "\n",
        "$\\;\\;\\text{2. }\\;\\; \\mathbf{A}(\\mathbf{B}\\pm \\mathbf{C}) = \\mathbf{A}\\mathbf{B} \\pm \\mathbf{A}\\mathbf{C}$\n",
        "\n",
        "$\\;\\;\\text{3. }\\;\\; (\\mathbf{A}\\pm \\mathbf{B})\\mathbf{C} = \\mathbf{A}\\mathbf{C} \\pm \\mathbf{B}\\mathbf{C}$\n",
        "\n",
        "$\\;\\;\\text{4. }\\;\\; c(\\mathbf{A}\\mathbf{B}) = (c\\mathbf{A})\\mathbf{B}$\n",
        "\n",
        "$\\;\\;\\text{5. }\\;\\; \\mathbf{A}\\mathbf{0} = \\mathbf{0}$ and $\\mathbf{0}\\mathbf{B} = \\mathbf{0}$\n",
        "\n",
        "$\\;\\;\\text{6. }\\;\\; \\mathbf{A}\\mathbf{I} = \\mathbf{A}$ and $\\mathbf{I}\\mathbf{A} = \\mathbf{A}$\n",
        "\n",
        "where $\\mathbf{I}$ is the identity matrix and $\\mathbf{0}$ is the zero matrix, just like we learned in SLU12. $c$ is a scalar."
      ]
    },
    {
      "cell_type": "markdown",
      "metadata": {
        "id": "sGY6dpv6vdL8"
      },
      "source": [
        "> 📝 **Pen and paper exercise 2**: Multiply $\\begin{bmatrix} 1 & 0 \\\\ 0 & 1 \\end{bmatrix}$ by $\\begin{bmatrix}-1 & 2\\\\6 & 0\\end{bmatrix}$. Do you get the expected result as by property 6?\n",
        ">\n",
        ">  Look at the rows of the second matrix and remember that the resulting matrix rows are linear combinations of the second matrix rows. Notice how the disposition of scalars $1$ and $0$ inside the identity matrix allows you to maintain the row vectors of the second matrix unchanged.\n",
        ">\n",
        "> Again, it's \"mathmagic\". All you've learned is connected."
      ]
    },
    {
      "cell_type": "markdown",
      "metadata": {
        "id": "RpUez3rMvdL9"
      },
      "source": [
        "### 1.3 Transpose multiplication rules"
      ]
    },
    {
      "cell_type": "markdown",
      "metadata": {
        "id": "-AUVo2VbvdL9"
      },
      "source": [
        "We've seen the transpose laws for addition and multiplication by a scalar in the last SLU. There are also special rules for matrix multiplication with the transpose:\n",
        "\n",
        "$\\;\\;\\text{1. }\\;\\; (\\mathbf{A}\\pm \\mathbf{B})^T = \\mathbf{A}^T\\pm \\mathbf{B}^T$\n",
        "\n",
        "$\\;\\;\\text{2. }\\;\\; (c\\mathbf{A})^T = c\\mathbf{A}^T$\n",
        "\n",
        "$\\;\\;\\text{3. }\\;\\; (\\mathbf{A} \\mathbf{B})^T = \\mathbf{B}^T \\mathbf{A}^T$"
      ]
    },
    {
      "cell_type": "markdown",
      "metadata": {
        "id": "lbb8o5BpvdL-"
      },
      "source": [
        "> 📌 **Tip**: These will become very handy when reading machine learning algorithms equations, and specially some mathematical \"tricks\" that are applied to get to a simple matrix form solution."
      ]
    },
    {
      "cell_type": "markdown",
      "metadata": {
        "id": "h6QUPFKvvdL-"
      },
      "source": [
        "### 1.4 Matrix multiplication using NumPy"
      ]
    },
    {
      "cell_type": "markdown",
      "metadata": {
        "id": "8mv7ENrUvdL-"
      },
      "source": [
        "#### 1.4.1 Multiplying matrices using `numpy.matmul()`"
      ]
    },
    {
      "cell_type": "markdown",
      "metadata": {
        "id": "w4dR41R9vdL_"
      },
      "source": [
        "As always, NumPy has got us covered. We can multiply two matrices using `np.matmul()`:"
      ]
    },
    {
      "cell_type": "code",
      "metadata": {
        "id": "OqajJR5mvdL_",
        "outputId": "dd30014f-febb-4e2e-e23b-40eeca53fa38"
      },
      "source": [
        "# bring back matrices from our previous example above\n",
        "# 2D array to represent A\n",
        "A = np.array([[-1, 2],\n",
        "              [4, 6]])\n",
        "# 2D array to represent B\n",
        "B = np.array([[0, 3, 6],\n",
        "              [-2, 0, -1]])\n",
        "\n",
        "# numpy.matmul() to multiply A by B\n",
        "C = np.matmul(A, B)\n",
        "C"
      ],
      "execution_count": null,
      "outputs": [
        {
          "output_type": "execute_result",
          "data": {
            "text/plain": [
              "array([[ -4,  -3,  -8],\n",
              "       [-12,  12,  18]])"
            ]
          },
          "metadata": {
            "tags": []
          },
          "execution_count": 2
        }
      ]
    },
    {
      "cell_type": "markdown",
      "metadata": {
        "deletable": false,
        "editable": false,
        "id": "r3F1U3f9vdMB"
      },
      "source": [
        "If the resulting matrix above does not match the one we obtained in [our previous example](#1.1.2-Example:), you have a bad instructor."
      ]
    },
    {
      "cell_type": "markdown",
      "metadata": {
        "id": "y1qbtwUCvdMC"
      },
      "source": [
        "On the [reference page for `numpy.matmul()`](https://numpy.org/doc/1.20/reference/generated/numpy.matmul.html) we can read the following on the \"Notes\" section:\n",
        "\n",
        "<img src=\"https://github.com/LDSSA/ds-prep-course-2021/blob/main/Week%2008/SLU13%20-%20Linear%20Algebra%20%26%20NumPy%2C%20Part%202/media/matmul.png?raw=1\" width=\"700\"/>"
      ]
    },
    {
      "cell_type": "markdown",
      "metadata": {
        "id": "7y65-9bYvdMC"
      },
      "source": [
        "There is a lot of info in there, but the key goal here is that you understand that when using 1-D arrays (which could happen if you're representing a vector, as we've seen in SLU12), the behaviour of the function will change. Let's check some examples:"
      ]
    },
    {
      "cell_type": "markdown",
      "metadata": {
        "id": "miFdFyXivdMC"
      },
      "source": [
        "**Using 2D arrays:**"
      ]
    },
    {
      "cell_type": "code",
      "metadata": {
        "scrolled": true,
        "id": "j3ey5QsKvdMD",
        "outputId": "51787a25-3aa7-4d76-fe31-9f145778bf27"
      },
      "source": [
        "# multiplying (2x1) column vector by (1x2) row vector using 2D arrays\n",
        "np.matmul(np.array([[0],\n",
        "                    [1]]),  # 2D array\n",
        "          np.array([[-1, 2]]))  # 2D array"
      ],
      "execution_count": null,
      "outputs": [
        {
          "output_type": "execute_result",
          "data": {
            "text/plain": [
              "array([[ 0,  0],\n",
              "       [-1,  2]])"
            ]
          },
          "metadata": {
            "tags": []
          },
          "execution_count": 3
        }
      ]
    },
    {
      "cell_type": "markdown",
      "metadata": {
        "id": "8ap197PqvdME"
      },
      "source": [
        "**Using 1D arrays:**"
      ]
    },
    {
      "cell_type": "markdown",
      "metadata": {
        "id": "twQBZrbmvdME"
      },
      "source": [
        "Notice that when you use 1D arrays to represent vectors, NumPy cannot guess whether it's dealing with row or column vectors!! It will return the dot product:"
      ]
    },
    {
      "cell_type": "code",
      "metadata": {
        "scrolled": true,
        "id": "I5iCopYhvdMF",
        "outputId": "2330d1d6-64a7-4edb-bfe8-6f67aa1f1054"
      },
      "source": [
        "# multiplying (2x1) column vector by (1x2) row vector using 2D array and 1D array, respectively\n",
        "np.matmul(np.array([0, 1]),  # 1D array\n",
        "          np.array([-1, 2]))  # 1D array"
      ],
      "execution_count": null,
      "outputs": [
        {
          "output_type": "execute_result",
          "data": {
            "text/plain": [
              "2"
            ]
          },
          "metadata": {
            "tags": []
          },
          "execution_count": 4
        }
      ]
    },
    {
      "cell_type": "markdown",
      "metadata": {
        "id": "NGnHYBR4vdMG"
      },
      "source": [
        "**Using 2D and 1D arrays:**"
      ]
    },
    {
      "cell_type": "markdown",
      "metadata": {
        "id": "T360_RBGvdMG"
      },
      "source": [
        "As you can see below, although at first sight it looks like we're doing the right thing (multiplying column vector of dimension $2\\times 1$ by row vector of dimension $1\\times 2$), NumPy will get confused:"
      ]
    },
    {
      "cell_type": "code",
      "metadata": {
        "id": "LU_iaGJ-vdMH",
        "outputId": "aceac89e-3796-4136-980f-67fa8985dd36"
      },
      "source": [
        "x = np.array([[0],[1]])  # 2D array, matrix 2x1 (column vector)\n",
        "y = np.array([-1, 2])  # 1D array, row vector 1x2\n",
        "try:\n",
        "    np.matmul(x, y)\n",
        "except Exception as e: \n",
        "    print(\"ValueError:\", e)"
      ],
      "execution_count": null,
      "outputs": [
        {
          "output_type": "stream",
          "text": [
            "ValueError: matmul: Input operand 1 has a mismatch in its core dimension 0, with gufunc signature (n?,k),(k,m?)->(n?,m?) (size 2 is different from 1)\n"
          ],
          "name": "stdout"
        }
      ]
    },
    {
      "cell_type": "markdown",
      "metadata": {
        "id": "aVk2MvX4vdMH"
      },
      "source": [
        "As we can read from the documentation page of `numpy.matmul()`:\n",
        "\n",
        "> If the **second argument** is 1-D, it is promoted to a matrix by **appending** a 1 to its dimensions. After matrix multiplication the appended 1 is removed.\n",
        "\n",
        "In this case, the shape of our second argument is `(2,)`, so it will be transformed under the hood to `(2, 1)`, which is not compatible with `(2, 1)` (the shape of our first argument) for matrix multiplication."
      ]
    },
    {
      "cell_type": "code",
      "metadata": {
        "id": "UUnUH_dPvdMI",
        "outputId": "4b70b226-ac99-4ea1-9851-b1bd6e67f8ee"
      },
      "source": [
        "print(\"x.shape:\", x.shape)\n",
        "print(\"y.shape:\", y.shape)"
      ],
      "execution_count": null,
      "outputs": [
        {
          "output_type": "stream",
          "text": [
            "x.shape: (2, 1)\n",
            "y.shape: (2,)\n"
          ],
          "name": "stdout"
        }
      ]
    },
    {
      "cell_type": "markdown",
      "metadata": {
        "id": "96utqqW7vdMJ"
      },
      "source": [
        "On the other hand, multiplying in the reverse order (`y` as first argument and `x` as second) will work. In this case, our first argument has shape `(2,)`, which will be converted to `(1,2)`, according to NumPy:\n",
        "\n",
        "> If the **first argument** is 1-D, it is promoted to a matrix by **prepending** a 1 to its dimensions. After matrix multiplication the prepended 1 is removed.\n",
        "\n",
        "Hence, NumPy will multiply successfully the `(1,2)` shaped array by the `(2,1)` shaped array (our second argument, `x`):"
      ]
    },
    {
      "cell_type": "code",
      "metadata": {
        "id": "dr6Tx0oMvdMJ",
        "outputId": "0246a5b6-2dde-4e64-8f97-b42304f56234"
      },
      "source": [
        "np.matmul(y, x)"
      ],
      "execution_count": null,
      "outputs": [
        {
          "output_type": "execute_result",
          "data": {
            "text/plain": [
              "array([2])"
            ]
          },
          "metadata": {
            "tags": []
          },
          "execution_count": 7
        }
      ]
    },
    {
      "cell_type": "markdown",
      "metadata": {
        "id": "HCo0zkxqvdMK"
      },
      "source": [
        "Yes, I know, it's a bit confusing, but it's the price we have to pay to have one awesome library that does all the computations for us. It's worth the effort. 😌"
      ]
    },
    {
      "cell_type": "markdown",
      "metadata": {
        "id": "RBZ4d58uvdML"
      },
      "source": [
        "> 📌 **Tip**: Just like before, notice how important the concept of array dimensions and shape is when dealing with NumPy arrays."
      ]
    },
    {
      "cell_type": "markdown",
      "metadata": {
        "id": "7pgI2tfdvdML"
      },
      "source": [
        "⚠️ **The `*` operator is not to be used for matrix multiplication!!**"
      ]
    },
    {
      "cell_type": "code",
      "metadata": {
        "id": "83ELwjKZvdMM"
      },
      "source": [
        "# 2D array to represent A\n",
        "A = np.array([[-1, 2],\n",
        "              [4, 6]])\n",
        "# 2D array to represent B\n",
        "B = np.array([[0, 3],\n",
        "              [-2, 0]])"
      ],
      "execution_count": null,
      "outputs": []
    },
    {
      "cell_type": "code",
      "metadata": {
        "id": "TmLhNIQcvdMM",
        "outputId": "f601c776-c006-4562-dc5e-f592f8732746"
      },
      "source": [
        "# matrix multiplication\n",
        "np.matmul(A, B)"
      ],
      "execution_count": null,
      "outputs": [
        {
          "output_type": "execute_result",
          "data": {
            "text/plain": [
              "array([[ -4,  -3],\n",
              "       [-12,  12]])"
            ]
          },
          "metadata": {
            "tags": []
          },
          "execution_count": 9
        }
      ]
    },
    {
      "cell_type": "markdown",
      "metadata": {
        "id": "MOD_3M8rvdMN"
      },
      "source": [
        "The `*` when used between matrices (2D arrays) will be interpreted as element-wise multiplication and not matrix multiplication."
      ]
    },
    {
      "cell_type": "code",
      "metadata": {
        "scrolled": true,
        "id": "Nai-ZtATvdMN",
        "outputId": "3b3e5e54-3cb2-4a1c-d2cf-fda238872d20"
      },
      "source": [
        "# element-wise multiplication\n",
        "A * B"
      ],
      "execution_count": null,
      "outputs": [
        {
          "output_type": "execute_result",
          "data": {
            "text/plain": [
              "array([[ 0,  6],\n",
              "       [-8,  0]])"
            ]
          },
          "metadata": {
            "tags": []
          },
          "execution_count": 10
        }
      ]
    },
    {
      "cell_type": "markdown",
      "metadata": {
        "id": "rc1hvJM4vdMO"
      },
      "source": [
        "#### 1.4.2 Using `numpy.matmul()` versus `numpy.dot()`"
      ]
    },
    {
      "cell_type": "markdown",
      "metadata": {
        "id": "ZcJqKNYlvdMO"
      },
      "source": [
        "Remember `numpy.dot()`, which we used to determine the scalar product (or dot product) between two vectors on the last SLU?\n",
        "\n",
        "Well, we could use `numpy.dot()` as well, to perform the multiplication between two matrices."
      ]
    },
    {
      "cell_type": "code",
      "metadata": {
        "id": "_NR0ZwgsvdMP",
        "outputId": "97dcb0ba-3093-400e-bc66-78feb0b0a7f3"
      },
      "source": [
        "np.dot(A, B)"
      ],
      "execution_count": null,
      "outputs": [
        {
          "output_type": "execute_result",
          "data": {
            "text/plain": [
              "array([[ -4,  -3],\n",
              "       [-12,  12]])"
            ]
          },
          "metadata": {
            "tags": []
          },
          "execution_count": 11
        }
      ]
    },
    {
      "cell_type": "markdown",
      "metadata": {
        "id": "pFDRRAg5vdMP"
      },
      "source": [
        "NumPy advises you, **however**, to use `numpy.matmul()` in the case of 2-D arrays, as you can see in the documentation page of [`numpy.dot()`](https://numpy.org/doc/1.20/reference/generated/numpy.dot.html):\n",
        "\n",
        "<img src=\"https://github.com/LDSSA/ds-prep-course-2021/blob/main/Week%2008/SLU13%20-%20Linear%20Algebra%20%26%20NumPy%2C%20Part%202/media/dot_vs_matmul.png?raw=1\" width=\"600\"/>"
      ]
    },
    {
      "cell_type": "markdown",
      "metadata": {
        "id": "jPg56zqevdMQ"
      },
      "source": [
        "## 2. The inverse"
      ]
    },
    {
      "cell_type": "markdown",
      "metadata": {
        "id": "DHTjyiebvdMQ"
      },
      "source": [
        "The first question to ask yourself is: __\"If a given matrix is square, is it invertible or not?\"__"
      ]
    },
    {
      "cell_type": "markdown",
      "metadata": {
        "id": "RvsVYIePvdMQ"
      },
      "source": [
        "---"
      ]
    },
    {
      "cell_type": "markdown",
      "metadata": {
        "id": "soghkXPsvdMR"
      },
      "source": [
        "<img src=\"https://github.com/LDSSA/ds-prep-course-2021/blob/main/Week%2008/SLU13%20-%20Linear%20Algebra%20%26%20NumPy%2C%20Part%202/media/best_question.gif?raw=1\" width=\"320\"/>"
      ]
    },
    {
      "cell_type": "markdown",
      "metadata": {
        "id": "xC8BqDcSvdMR"
      },
      "source": [
        "---"
      ]
    },
    {
      "cell_type": "markdown",
      "metadata": {
        "id": "gIlFI6zavdMR"
      },
      "source": [
        "A square matrix **may or may not be invertible**. It all (linearly) \"depends\".\n",
        "\n",
        "So, here's the general definition of the inverse:"
      ]
    },
    {
      "cell_type": "markdown",
      "metadata": {
        "id": "DxXzF-HyvdMS"
      },
      "source": [
        "<a name=\"vector_def\"></a>\n",
        "<div class=\"alert alert-block alert-info\">\n",
        "    <b>A matrix</b> $\\mathbf{A}$, of size $m\\times m$, <b>is invertible, if there is a matrix</b> $\\mathbf{B}$ such that $\\mathbf{A}\\mathbf{B} = \\mathbf{B}\\mathbf{A} = \\mathbf{I}_m$. When it exists, $B$ is unique, is called the inverse of $\\mathbf{A}$, and is denoted by $\\mathbf{A}^{-1}$.\n",
        "    <br>\n",
        "    <br>\n",
        "    If one can find a square matrix $\\mathbf{B}$ that satisfies $\\mathbf{B}\\mathbf{A} = \\mathbf{I}_m$, then $\\mathbf{A}\\mathbf{B} = \\mathbf{I}_m$, that is, $\\mathbf{B} = \\mathbf{A}^{-1}$, and vice-versa.\n",
        "</div>\n"
      ]
    },
    {
      "cell_type": "markdown",
      "metadata": {
        "id": "AM7pz_f-vdMS"
      },
      "source": [
        "### 2.1 Finding the inverse of a matrix"
      ]
    },
    {
      "cell_type": "markdown",
      "metadata": {
        "id": "roCCGIJmvdMS"
      },
      "source": [
        "Bring to your memory (or go check that again) all you've learned so far on:\n",
        "- linear independence of vectors; (SLU12)\n",
        "- matrix multiplication in terms of linear combinations of columns. (SLU13 - this one!)\n",
        "\n",
        "Once again, everything is interconnected."
      ]
    },
    {
      "cell_type": "markdown",
      "metadata": {
        "id": "l5r3kdAyvdMT"
      },
      "source": [
        "---"
      ]
    },
    {
      "cell_type": "markdown",
      "metadata": {
        "id": "Kamd_yHdvdMT"
      },
      "source": [
        "Let's check a very simple example. Suppose you have a $2\\times 2$ matrix $\\mathbf{A}$:\n",
        "\n",
        "$$\\mathbf{A} = \n",
        "    \\begin{bmatrix}\n",
        "        1 & 2\\\\\n",
        "        2 & 4\n",
        "    \\end{bmatrix}\n",
        "$$\n",
        "\n",
        "\n",
        "```\n",
        "Instructor: -\"Dear student, what's the inverse of A?\"\n",
        "Student: -\"I'm sorry but I can't tell you yet. The correct question is: A being square, is it invertible or not?\"\n",
        "Instructor: -\"That's the best answer of all!\"\n",
        "```"
      ]
    },
    {
      "cell_type": "markdown",
      "metadata": {
        "id": "l_qka2d2vdMU"
      },
      "source": [
        "\n",
        "We know that **if the square matrix** $\\mathbf{A}$, of size $2\\times 2$, is invertible, then we should be able to find $\\mathbf{B}$ such that $\\mathbf{B}\\mathbf{A} = I_2$, or $\\mathbf{A}\\mathbf{B} = I_2$ ($2\\times 2$ identity matrix).\n",
        "\n",
        "Let's represent that as:\n",
        "\n",
        "$$\\begin{bmatrix}\n",
        "       1 & 2\\\\\n",
        "       2 & 4\n",
        "   \\end{bmatrix}\n",
        "   \\begin{bmatrix}\n",
        "       b_{1,1} & b_{1,2}\\\\\n",
        "       b_{2,1} & b_{2,2}\n",
        "   \\end{bmatrix} \\stackrel{?}{=}\n",
        "   \\begin{bmatrix}\n",
        "       1 & 0\\\\\n",
        "       0 & 1\n",
        "   \\end{bmatrix}\n",
        "$$\n",
        "\n",
        "<br>\n",
        "\n",
        "Recall that \"*__The columns of the product of two matrices__ are __combinations of the columns__ of the __first matrix.__*\" If you're clueless, [reread section 1.1.3](#1.1.3-Matrix-multiplication-and-linear-combinations).\n",
        "\n",
        "With that in mind, we can write the **first column** of $\\mathbf{A} \\mathbf{B}$ as the linear combination:\n",
        "\n",
        "$$\n",
        "b_{1,1}\\cdot\n",
        "\\begin{bmatrix}\n",
        "    1\\\\\n",
        "    2\n",
        "\\end{bmatrix}\n",
        "+\n",
        "b_{2,1}\\cdot\n",
        "\\begin{bmatrix}\n",
        "    2\\\\ \n",
        "    4\n",
        "\\end{bmatrix}\n",
        "$$\n",
        "\n",
        "and the second as the linear combination:\n",
        "\n",
        "$$\n",
        "b_{1,2}\\cdot\n",
        "\\begin{bmatrix}\n",
        "    1\\\\\n",
        "    2\n",
        "\\end{bmatrix}\n",
        "+\n",
        "b_{2,2}\\cdot\n",
        "\\begin{bmatrix}\n",
        "    2\\\\ \n",
        "    4\n",
        "\\end{bmatrix}\n",
        "$$"
      ]
    },
    {
      "cell_type": "markdown",
      "metadata": {
        "id": "CqRyJTIyvdMV"
      },
      "source": [
        "**If the inverse exists**, we should be able to write:\n",
        "\n",
        "$$\n",
        "b_{1,1}\\cdot\n",
        "\\begin{bmatrix}\n",
        "    1\\\\\n",
        "    2\n",
        "\\end{bmatrix}\n",
        "+\n",
        "b_{2,1}\\cdot\n",
        "\\begin{bmatrix}\n",
        "    2\\\\ \n",
        "    4\n",
        "\\end{bmatrix} = \n",
        "\\begin{bmatrix}\n",
        "    1\\\\ \n",
        "    0\n",
        "\\end{bmatrix}\n",
        "$$\n",
        "\n",
        "and:\n",
        "\n",
        "$$\n",
        "b_{1,2}\\cdot\n",
        "\\begin{bmatrix}\n",
        "    1\\\\\n",
        "    2\n",
        "\\end{bmatrix}\n",
        "+\n",
        "b_{2,2}\\cdot\n",
        "\\begin{bmatrix}\n",
        "    2\\\\ \n",
        "    4\n",
        "\\end{bmatrix} =\n",
        "\\begin{bmatrix}\n",
        "    0\\\\ \n",
        "    1\n",
        "\\end{bmatrix}\n",
        "$$"
      ]
    },
    {
      "cell_type": "markdown",
      "metadata": {
        "id": "8b04GRMjvdMW"
      },
      "source": [
        "Notice something familiar there?...\n",
        "\n",
        "The columns of $\\mathbf{A}$ are actually two collinear vectors. If you multiply the first column by scalar $2$, you get the second column of $\\mathbf{A}$.\n",
        "\n",
        "Remember that if you have 2 collinear vectors in a 2D space, you'll get \"stuck on the line\"?"
      ]
    },
    {
      "cell_type": "markdown",
      "metadata": {
        "id": "WiWLa-xVvdMX"
      },
      "source": [
        "---\n",
        "\n",
        "```Python\n",
        "if student.current_thought == \"I have no idea what she's talking about.\":\n",
        "    print(\"You just made your instructor shed a tear. Please reread Learning Notebook 1 of SLU12, section on linear independence.\")\n",
        "\n",
        "elif student.current_thought == \"I know what you're talking about!!\":\n",
        "    print(\"2 collinear 2D vectors cannot define the space of all 2D vectors; but 2 non-collinear 2D vectors can!\")\n",
        "\n",
        "else:\n",
        "    print(\"Hello, World!\")\n",
        "```\n",
        "\n",
        "---"
      ]
    },
    {
      "cell_type": "markdown",
      "metadata": {
        "id": "rTCdYNMfvdMX"
      },
      "source": [
        "The concept of linear (in)dependence is extremely important. Here we are, just about to use it again.\n",
        "\n",
        "Applying the same concept to our $\\mathbf{A}$ matrix columns, we see that it is **impossible** to find some matrix $\\mathbf{B}$ that multiplied by $\\mathbf{A}$ (which has 2 collinear columns) would yield two noncollinear vector columns, namely $\\begin{bmatrix} 1\\\\ 0\\end{bmatrix}$ and $\\begin{bmatrix} 0\\\\ 1\\end{bmatrix}$, out of that same line.\n",
        "\n",
        "> 📌 **Tip**: Notice that each and every identity matrix is made up of $n$ vectors, each $n$-dimensional, which are all orthogonal to each other. Since they're not collinear, we can always find a linear combination with those $n$ vectors to represent any $n$-dimensional vector we want.\n",
        "\n",
        "> *And that's why my favourite matrix is the identity.*"
      ]
    },
    {
      "cell_type": "markdown",
      "metadata": {
        "id": "7imL1VWhvdMY"
      },
      "source": [
        "---"
      ]
    },
    {
      "cell_type": "markdown",
      "metadata": {
        "id": "qRfHpZAivdMY"
      },
      "source": [
        "<img src=\"https://github.com/LDSSA/ds-prep-course-2021/blob/main/Week%2008/SLU13%20-%20Linear%20Algebra%20%26%20NumPy%2C%20Part%202/media/identity_matrix.png?raw=1\"/>"
      ]
    },
    {
      "cell_type": "markdown",
      "metadata": {
        "id": "CVnsbv9HvdMY"
      },
      "source": [
        "---"
      ]
    },
    {
      "cell_type": "markdown",
      "metadata": {
        "id": "z8VCKCnyvdMZ"
      },
      "source": [
        "❗️ **Key takeaway**: A square matrix is invertible **if and only if** none of its columns is a linear combination of the others.\n",
        "\n",
        "❗️ **Singular matrix:** A square matrix that is **not invertible** is called a **singular matrix**."
      ]
    },
    {
      "cell_type": "markdown",
      "metadata": {
        "id": "Q8pfv0PnvdMZ"
      },
      "source": [
        "> 📝 **Pen and paper exercise 3**: Consider the matrix  $\\;\\;\\mathbf{A} = \\begin{bmatrix} 1 & 0 & 1\\\\ 0 & 1 & 1\\\\ 3 & -2 & a_{3,3}\\end{bmatrix}$. Find **the value** $a_{3,3}$ for which $\\mathbf{A}$ is **non-invertible** (singular). Do you think you could choose more than 1 value?"
      ]
    },
    {
      "cell_type": "markdown",
      "metadata": {
        "id": "kF4LGoCGvdMa"
      },
      "source": [
        "Let's call our geeky friend NumPy to determine the inverse for us, because our brains need a break."
      ]
    },
    {
      "cell_type": "markdown",
      "metadata": {
        "id": "uGcoxKBRvdMa"
      },
      "source": [
        "---"
      ]
    },
    {
      "cell_type": "markdown",
      "metadata": {
        "id": "DpWLH7t3vdMa"
      },
      "source": [
        "### 2.2 Using NumPy to find the inverse of a matrix"
      ]
    },
    {
      "cell_type": "markdown",
      "metadata": {
        "id": "Bkt_ApWqvdMa"
      },
      "source": [
        "*NumPy, dear NumPy, will you do the math for us?...*"
      ]
    },
    {
      "cell_type": "markdown",
      "metadata": {
        "id": "D2Iqe9IkvdMb"
      },
      "source": [
        "Remember [`numpy.linalg`](https://numpy.org/doc/1.20/reference/routines.linalg.html) module?\n",
        "\n",
        "Well, we can use it to determine the inverse of a matrix, with something called [`numpy.linalg.inv()`](https://numpy.org/doc/1.20/reference/generated/numpy.linalg.inv.html). Let's check it out."
      ]
    },
    {
      "cell_type": "markdown",
      "metadata": {
        "id": "JDRJnw0EvdMb"
      },
      "source": [
        "Trying to determine the inverse of a non-invertible square matrix will result in an error, more specifically, a `LinAlgError` with the message `Singular matrix`. (*makes sense, right?*)"
      ]
    },
    {
      "cell_type": "code",
      "metadata": {
        "id": "tl98quPqvdMc",
        "outputId": "9944e589-9962-4c3d-fd15-3f05e613abe9"
      },
      "source": [
        "# a non-invertible square matrix\n",
        "A = np.array([[1, 2],\n",
        "              [2, 4]])\n",
        "A\n",
        "\n",
        "# try to determine the inverse using NumPy\n",
        "try:\n",
        "    np.linalg.inv(A)\n",
        "except Exception as e:  # NumPy is smart, so it throws an error because A is not invertible\n",
        "    print(\"LinAlgError:\", e)"
      ],
      "execution_count": null,
      "outputs": [
        {
          "output_type": "stream",
          "text": [
            "LinAlgError: Singular matrix\n"
          ],
          "name": "stdout"
        }
      ]
    },
    {
      "cell_type": "markdown",
      "metadata": {
        "id": "M86hFeEZvdMc"
      },
      "source": [
        "Now let's try to determine the inverse of an invertible matrix using NumPy:"
      ]
    },
    {
      "cell_type": "code",
      "metadata": {
        "id": "ne03r4gHvdMd",
        "outputId": "5255013a-d876-4075-b6b7-65d687e011ca"
      },
      "source": [
        "# an invertible matrix\n",
        "B = np.array([[0, 2],\n",
        "              [-4, 1]])\n",
        "B_inv = np.linalg.inv(B)\n",
        "B_inv"
      ],
      "execution_count": null,
      "outputs": [
        {
          "output_type": "execute_result",
          "data": {
            "text/plain": [
              "array([[ 0.125, -0.25 ],\n",
              "       [ 0.5  ,  0.   ]])"
            ]
          },
          "metadata": {
            "tags": []
          },
          "execution_count": 13
        }
      ]
    },
    {
      "cell_type": "markdown",
      "metadata": {
        "id": "NspMlrEDvdMd"
      },
      "source": [
        "Thank you, NumPy!!"
      ]
    },
    {
      "cell_type": "markdown",
      "metadata": {
        "id": "BN1OH5GivdMe"
      },
      "source": [
        "Finally, for the skeptics (*I know you're out there*), let's check that multiplying `B` by `B_inv` actually yields the identity! Oh and by the way, this will not always be the case because NumPy approximates the numbers (*no computer has infinite memory!*), thus in some cases you could for example get a diagonal with values just slightly different from 1."
      ]
    },
    {
      "cell_type": "code",
      "metadata": {
        "id": "HXlQEsOAvdMe",
        "outputId": "ac134654-9d9f-41c6-dcfe-b468a6c39692"
      },
      "source": [
        "# multiply B by B_inv\n",
        "print(\"B multiplied by B_inv:\\n\", np.matmul(B, B_inv))\n",
        "\n",
        "# multiply B_inv by B (because we're paranoid and insane, and doubt the Mathematicians)\n",
        "print(\"B_inv multiplied by B:\\n\", np.matmul(B_inv, B))"
      ],
      "execution_count": null,
      "outputs": [
        {
          "output_type": "stream",
          "text": [
            "B multiplied by B_inv:\n",
            " [[1. 0.]\n",
            " [0. 1.]]\n",
            "B_inv multiplied by B:\n",
            " [[1. 0.]\n",
            " [0. 1.]]\n"
          ],
          "name": "stdout"
        }
      ]
    },
    {
      "cell_type": "markdown",
      "metadata": {
        "id": "4iPERgtPvdMf"
      },
      "source": [
        "---"
      ]
    },
    {
      "cell_type": "markdown",
      "metadata": {
        "id": "WTtE5LJrvdMf"
      },
      "source": [
        "```\n",
        "All this questioning just invoked Gauss, Newton, Cayley, Hamilton and their fellow dead Mathemagicians from their graves:\n",
        "-\"How dare you doubt our findings on the workings of the inverse? You Math wannabes!!\"\n",
        "```"
      ]
    },
    {
      "cell_type": "markdown",
      "metadata": {
        "id": "au9BaenCvdMg"
      },
      "source": [
        "<img src=\"https://github.com/LDSSA/ds-prep-course-2021/blob/main/Week%2008/SLU13%20-%20Linear%20Algebra%20%26%20NumPy%2C%20Part%202/media/mathmagicians.png?raw=1\"/>"
      ]
    },
    {
      "cell_type": "markdown",
      "metadata": {
        "id": "8MCwFE7jvdMg"
      },
      "source": [
        "```Python\n",
        "    (we will now shamefully run away to the following section)\n",
        "```"
      ]
    },
    {
      "cell_type": "markdown",
      "metadata": {
        "id": "aTjW3LDGvdMg"
      },
      "source": [
        "---"
      ]
    },
    {
      "cell_type": "markdown",
      "metadata": {
        "id": "YAs6RbswvdMh"
      },
      "source": [
        "By the way, the inverse of a matrix was the last missing piece we needed to be able to read the matrix form of the multiple linear regression solution:\n",
        "\n",
        "$$\\mathbf{\\beta} = (X^TX)^{-1}(X^T\\mathbf{y})$$\n",
        "\n",
        "<br>\n",
        "\n",
        "<center>😲😱😲😱</center>"
      ]
    },
    {
      "cell_type": "markdown",
      "metadata": {
        "id": "kw3IduxwvdMh"
      },
      "source": [
        "---"
      ]
    },
    {
      "cell_type": "markdown",
      "metadata": {
        "id": "fPr5xW7QvdMh"
      },
      "source": [
        "## 3. Additional NumPy methods"
      ]
    },
    {
      "cell_type": "markdown",
      "metadata": {
        "id": "FXH_ttNVvdMi"
      },
      "source": [
        "---"
      ]
    },
    {
      "cell_type": "markdown",
      "metadata": {
        "id": "TrMToSAPvdMi"
      },
      "source": [
        "<img src=\"https://github.com/LDSSA/ds-prep-course-2021/blob/main/Week%2008/SLU13%20-%20Linear%20Algebra%20%26%20NumPy%2C%20Part%202/media/new_friend.gif?raw=1\"/>"
      ]
    },
    {
      "cell_type": "markdown",
      "metadata": {
        "id": "xtOgY4XKvdMi"
      },
      "source": [
        "---"
      ]
    },
    {
      "cell_type": "markdown",
      "metadata": {
        "id": "9vM0hCgxvdMj"
      },
      "source": [
        "When it comes to the `ndarray` class, there are actually some pretty handy methods you can use to reorganize your data and calculate some metrics.\n",
        "\n",
        "Let's meet these buddies."
      ]
    },
    {
      "cell_type": "markdown",
      "metadata": {
        "id": "zv4b02q5vdMj"
      },
      "source": [
        "### 3.1 `ndarray.max()` and `ndarray.min()`"
      ]
    },
    {
      "cell_type": "markdown",
      "metadata": {
        "id": "nrg2weYFvdMk"
      },
      "source": [
        "The method [`ndarray.max()`](https://numpy.org/doc/1.20/reference/generated/numpy.ndarray.max.html) allows you to return the maximum value of an array **along** a chosen axis:"
      ]
    },
    {
      "cell_type": "code",
      "metadata": {
        "id": "zBPQQbYZvdMk",
        "outputId": "029999d4-d8d0-41ab-ece1-cd576a8bbc68"
      },
      "source": [
        "# a 3x3 square matrix\n",
        "A = np.array([[1, -1, 0],\n",
        "              [2, -2, 3],\n",
        "              [6, 0, -1]])\n",
        "A"
      ],
      "execution_count": null,
      "outputs": [
        {
          "output_type": "execute_result",
          "data": {
            "text/plain": [
              "array([[ 1, -1,  0],\n",
              "       [ 2, -2,  3],\n",
              "       [ 6,  0, -1]])"
            ]
          },
          "metadata": {
            "tags": []
          },
          "execution_count": 15
        }
      ]
    },
    {
      "cell_type": "code",
      "metadata": {
        "id": "nvPlqjPUvdMl",
        "outputId": "b21f918c-018b-45b6-8089-4dbff5c868b8"
      },
      "source": [
        "# using axis=1 we get the maximum value per row of A\n",
        "A.max(axis=1)"
      ],
      "execution_count": null,
      "outputs": [
        {
          "output_type": "execute_result",
          "data": {
            "text/plain": [
              "array([1, 3, 6])"
            ]
          },
          "metadata": {
            "tags": []
          },
          "execution_count": 16
        }
      ]
    },
    {
      "cell_type": "code",
      "metadata": {
        "scrolled": true,
        "id": "Zo13QrnPvdMl",
        "outputId": "ce8996da-c548-4c62-eaeb-931435964724"
      },
      "source": [
        "# using axis=0 we get the maximum value per column of A\n",
        "A.max(axis=0)"
      ],
      "execution_count": null,
      "outputs": [
        {
          "output_type": "execute_result",
          "data": {
            "text/plain": [
              "array([6, 0, 3])"
            ]
          },
          "metadata": {
            "tags": []
          },
          "execution_count": 17
        }
      ]
    },
    {
      "cell_type": "code",
      "metadata": {
        "id": "0OT7UC2dvdMm",
        "outputId": "cd803257-68b8-49db-bd74-a6064a7e713f"
      },
      "source": [
        "# if we don't specify the axis, it will use the default value axis=None (for v1.20 of NumPy)\n",
        "# meaning it will return the maximum value in the entire 2D array\n",
        "A.max()"
      ],
      "execution_count": null,
      "outputs": [
        {
          "output_type": "execute_result",
          "data": {
            "text/plain": [
              "6"
            ]
          },
          "metadata": {
            "tags": []
          },
          "execution_count": 18
        }
      ]
    },
    {
      "cell_type": "markdown",
      "metadata": {
        "id": "pdoQt1NNvdMn"
      },
      "source": [
        "The method [`ndarray.min()`](https://numpy.org/doc/1.20/reference/generated/numpy.ndarray.min.html) works in a similar manner, but instead of returning maximum values it returns minimum values:"
      ]
    },
    {
      "cell_type": "code",
      "metadata": {
        "id": "b63u0sCZvdMn",
        "outputId": "d2ae63ff-7cf3-4350-8a87-6d2ebbc3cb4c"
      },
      "source": [
        "A  # remember A"
      ],
      "execution_count": null,
      "outputs": [
        {
          "output_type": "execute_result",
          "data": {
            "text/plain": [
              "array([[ 1, -1,  0],\n",
              "       [ 2, -2,  3],\n",
              "       [ 6,  0, -1]])"
            ]
          },
          "metadata": {
            "tags": []
          },
          "execution_count": 19
        }
      ]
    },
    {
      "cell_type": "code",
      "metadata": {
        "id": "uBz2VfpPvdMo",
        "outputId": "9a6085f7-8570-49d9-c763-045ffb2ab030"
      },
      "source": [
        "# using axis=1 we get the minimum value per row of A\n",
        "A.min(axis=1)"
      ],
      "execution_count": null,
      "outputs": [
        {
          "output_type": "execute_result",
          "data": {
            "text/plain": [
              "array([-1, -2, -1])"
            ]
          },
          "metadata": {
            "tags": []
          },
          "execution_count": 20
        }
      ]
    },
    {
      "cell_type": "code",
      "metadata": {
        "id": "y8ms0h4rvdMo",
        "outputId": "00454a36-d7b7-46b7-8575-0a198cae4d79"
      },
      "source": [
        "# using axis=0 we get the minimum value per column of A\n",
        "A.min(axis=0)"
      ],
      "execution_count": null,
      "outputs": [
        {
          "output_type": "execute_result",
          "data": {
            "text/plain": [
              "array([ 1, -2, -1])"
            ]
          },
          "metadata": {
            "tags": []
          },
          "execution_count": 21
        }
      ]
    },
    {
      "cell_type": "code",
      "metadata": {
        "scrolled": true,
        "id": "o6U2EgRyvdMp",
        "outputId": "a829814e-c3e4-4bf0-8f95-914fa9079e90"
      },
      "source": [
        "# if we don't specify the axis, it will use the default value axis=None (for v1.20 of NumPy)\n",
        "# meaning it will return the minimum value in the entire 2D array\n",
        "A.min()"
      ],
      "execution_count": null,
      "outputs": [
        {
          "output_type": "execute_result",
          "data": {
            "text/plain": [
              "-2"
            ]
          },
          "metadata": {
            "tags": []
          },
          "execution_count": 22
        }
      ]
    },
    {
      "cell_type": "markdown",
      "metadata": {
        "id": "WMjmZUPFvdMp"
      },
      "source": [
        "```\n",
        "Student: -\"What if we have repeated values?\"\n",
        "Instructor: -\"No ideia!! Let's test it out!!\"\n",
        "```"
      ]
    },
    {
      "cell_type": "markdown",
      "metadata": {
        "id": "7pSR_uJlvdMq"
      },
      "source": [
        "Let's see what would happen with a 2D array `A` that has two maximum values (number `3`) on the last column:"
      ]
    },
    {
      "cell_type": "code",
      "metadata": {
        "id": "vRx-9L3ovdMq",
        "outputId": "cf62fe01-b5bb-45dd-ddca-ae6d5f2278f5"
      },
      "source": [
        "# 2D array with 2 equal maximum values in 3rd colum\n",
        "A = np.array([[1, -1, 3],\n",
        "              [2, 2, 3],\n",
        "              [6, 0, -1]])\n",
        "\n",
        "# using axis=0 we get the maximum value per column of A\n",
        "A.max(axis=0)"
      ],
      "execution_count": null,
      "outputs": [
        {
          "output_type": "execute_result",
          "data": {
            "text/plain": [
              "array([6, 2, 3])"
            ]
          },
          "metadata": {
            "tags": []
          },
          "execution_count": 23
        }
      ]
    },
    {
      "cell_type": "markdown",
      "metadata": {
        "id": "dIJbsxItvdMr"
      },
      "source": [
        "NumPy chooses one of the repeated values.\n",
        "\n",
        "```\n",
        "Student: -\"Ok, cool!\"\n",
        "```"
      ]
    },
    {
      "cell_type": "markdown",
      "metadata": {
        "id": "hW0efcsrvdMr"
      },
      "source": [
        "### 3.2 `ndarray.sort()` and `numpy.sort()`"
      ]
    },
    {
      "cell_type": "markdown",
      "metadata": {
        "id": "IId39CwlvdMs"
      },
      "source": [
        "The method [`ndarray.sort()`](https://numpy.org/doc/1.20/reference/generated/numpy.ndarray.sort.html) allows us to sort an array **in-place**. We also need to choose the axis along which to sort:"
      ]
    },
    {
      "cell_type": "code",
      "metadata": {
        "id": "y1Zn-nVivdMs",
        "outputId": "9683e0fc-9f6c-4a6b-8bf9-125e0469ccfe"
      },
      "source": [
        "A"
      ],
      "execution_count": null,
      "outputs": [
        {
          "output_type": "execute_result",
          "data": {
            "text/plain": [
              "array([[ 1, -1,  3],\n",
              "       [ 2,  2,  3],\n",
              "       [ 6,  0, -1]])"
            ]
          },
          "metadata": {
            "tags": []
          },
          "execution_count": 24
        }
      ]
    },
    {
      "cell_type": "code",
      "metadata": {
        "id": "dDET2LuzvdMs",
        "outputId": "4e761dee-f851-48c6-d8dd-2f17a62784e0"
      },
      "source": [
        "A.sort(axis=1)  # this will change the array in-place!!\n",
        "A"
      ],
      "execution_count": null,
      "outputs": [
        {
          "output_type": "execute_result",
          "data": {
            "text/plain": [
              "array([[-1,  1,  3],\n",
              "       [ 2,  2,  3],\n",
              "       [-1,  0,  6]])"
            ]
          },
          "metadata": {
            "tags": []
          },
          "execution_count": 25
        }
      ]
    },
    {
      "cell_type": "markdown",
      "metadata": {
        "id": "lMhA-9HjvdMt"
      },
      "source": [
        "Each row was sorted in ascending order from the lowest to the highest value.\n",
        "\n",
        "❗️ **Notice that** we lose the integrity of the matrix (each row is sorted independently of the remainder, so our columns might change too!)."
      ]
    },
    {
      "cell_type": "markdown",
      "metadata": {
        "id": "yMxhe_FgvdMt"
      },
      "source": [
        "❗️ Also note that NumPy **changed your array** without you explicitly having to assign the sorted array to a certain variable!! Be careful when using this method."
      ]
    },
    {
      "cell_type": "markdown",
      "metadata": {
        "id": "-QVvA6n4vdMu"
      },
      "source": [
        "**If you don't want your array to be changed in-place**, you can use [numpy.sort()](https://numpy.org/doc/1.20/reference/generated/numpy.sort.html) instead:"
      ]
    },
    {
      "cell_type": "code",
      "metadata": {
        "id": "jn1xoZ79vdMu",
        "outputId": "29c948c3-2b14-48f0-a282-fde4aa89d1e5"
      },
      "source": [
        "A = np.array([[1, -1, 3],\n",
        "              [2, 2, 3],\n",
        "              [6, 0, -1]])\n",
        "np.sort(A) # sort along the last axis (default is axis=-1)"
      ],
      "execution_count": null,
      "outputs": [
        {
          "output_type": "execute_result",
          "data": {
            "text/plain": [
              "array([[-1,  1,  3],\n",
              "       [ 2,  2,  3],\n",
              "       [-1,  0,  6]])"
            ]
          },
          "metadata": {
            "tags": []
          },
          "execution_count": 26
        }
      ]
    },
    {
      "cell_type": "code",
      "metadata": {
        "id": "humL2VnavdMv",
        "outputId": "6371f842-8733-4ba3-ede3-0f359c76cd7d"
      },
      "source": [
        "np.sort(A, axis=None)  # sort the flattened array (array reshaped to 1 dimension)"
      ],
      "execution_count": null,
      "outputs": [
        {
          "output_type": "execute_result",
          "data": {
            "text/plain": [
              "array([-1, -1,  0,  1,  2,  2,  3,  3,  6])"
            ]
          },
          "metadata": {
            "tags": []
          },
          "execution_count": 27
        }
      ]
    },
    {
      "cell_type": "code",
      "metadata": {
        "id": "2CdE-JsivdMv",
        "outputId": "01d3e39d-dc22-42f1-c387-8b56cae596bc"
      },
      "source": [
        "np.sort(A, axis=0)  # sort along the first axis"
      ],
      "execution_count": null,
      "outputs": [
        {
          "output_type": "execute_result",
          "data": {
            "text/plain": [
              "array([[ 1, -1, -1],\n",
              "       [ 2,  0,  3],\n",
              "       [ 6,  2,  3]])"
            ]
          },
          "metadata": {
            "tags": []
          },
          "execution_count": 28
        }
      ]
    },
    {
      "cell_type": "markdown",
      "metadata": {
        "id": "xuVa0d8mvdMw"
      },
      "source": [
        "If you wanted to sort in reverse order, you would have to do a *mathmagical trick* like the following:"
      ]
    },
    {
      "cell_type": "code",
      "metadata": {
        "id": "ZrOEcAMRvdMw",
        "outputId": "22bb4aeb-4f21-479e-ba5d-8462a3fdd22a"
      },
      "source": [
        "-np.sort(-A, axis=0)  # sort along the first axis"
      ],
      "execution_count": null,
      "outputs": [
        {
          "output_type": "execute_result",
          "data": {
            "text/plain": [
              "array([[ 6,  2,  3],\n",
              "       [ 2,  0,  3],\n",
              "       [ 1, -1, -1]])"
            ]
          },
          "metadata": {
            "tags": []
          },
          "execution_count": 29
        }
      ]
    },
    {
      "cell_type": "markdown",
      "metadata": {
        "id": "SiFVDdwrvdMx"
      },
      "source": [
        "❗️ NumPy is cool and all, but sometimes it can be very tricky... Remember that snippet, it will probably be useful."
      ]
    },
    {
      "cell_type": "markdown",
      "metadata": {
        "id": "b9BbmYR3vdMx"
      },
      "source": [
        "### 3.3 `ndarray.sum()`"
      ]
    },
    {
      "cell_type": "markdown",
      "metadata": {
        "id": "ZyIBW0F6vdMx"
      },
      "source": [
        "Finally, it is quite useful to find the sum of a matrix columns and/or rows. We can do that with the method [`ndarray.sum()`](https://numpy.org/doc/1.20/reference/generated/numpy.ndarray.sum.html)."
      ]
    },
    {
      "cell_type": "code",
      "metadata": {
        "id": "MzlVEo90vdMy",
        "outputId": "c697e1c3-cf72-4539-876e-055ca8f92735"
      },
      "source": [
        "# recall A 'cause we have bad memory\n",
        "A"
      ],
      "execution_count": null,
      "outputs": [
        {
          "output_type": "execute_result",
          "data": {
            "text/plain": [
              "array([[ 1, -1,  3],\n",
              "       [ 2,  2,  3],\n",
              "       [ 6,  0, -1]])"
            ]
          },
          "metadata": {
            "tags": []
          },
          "execution_count": 30
        }
      ]
    },
    {
      "cell_type": "code",
      "metadata": {
        "id": "dWeEhTkbvdMy",
        "outputId": "a6315ea0-3658-4e42-f838-1630b3a15ec4"
      },
      "source": [
        "# The default, axis=None, will sum all of the elements of the input array\n",
        "print(A.sum())"
      ],
      "execution_count": null,
      "outputs": [
        {
          "output_type": "stream",
          "text": [
            "15\n"
          ],
          "name": "stdout"
        }
      ]
    },
    {
      "cell_type": "code",
      "metadata": {
        "id": "FcavtE3vvdMz",
        "outputId": "f9f9583d-5ea5-4626-cc9f-31f51c82d4fe"
      },
      "source": [
        "B = np.array([[[1], [2]], [[3], [4]]])\n",
        "B.ndim"
      ],
      "execution_count": null,
      "outputs": [
        {
          "output_type": "execute_result",
          "data": {
            "text/plain": [
              "3"
            ]
          },
          "metadata": {
            "tags": []
          },
          "execution_count": 32
        }
      ]
    },
    {
      "cell_type": "code",
      "metadata": {
        "id": "BWGaUZsdvdMz",
        "outputId": "c2fd4b0f-a450-4218-f5be-553ac7c290e6"
      },
      "source": [
        "B.sum()"
      ],
      "execution_count": null,
      "outputs": [
        {
          "output_type": "execute_result",
          "data": {
            "text/plain": [
              "10"
            ]
          },
          "metadata": {
            "tags": []
          },
          "execution_count": 33
        }
      ]
    },
    {
      "cell_type": "code",
      "metadata": {
        "id": "5_4unRN8vdM0",
        "outputId": "87c12fab-3eb4-4002-80bc-30e0fdd29b83"
      },
      "source": [
        "A.sum(axis=0)  # Sum elements along axis=0 (sum elements in each column)"
      ],
      "execution_count": null,
      "outputs": [
        {
          "output_type": "execute_result",
          "data": {
            "text/plain": [
              "array([9, 1, 5])"
            ]
          },
          "metadata": {
            "tags": []
          },
          "execution_count": 34
        }
      ]
    },
    {
      "cell_type": "code",
      "metadata": {
        "id": "BD_CJQ9IvdM0",
        "outputId": "273de081-6dd1-446c-a5a1-24bf0673f63c"
      },
      "source": [
        "A.sum(axis=1)  # Sum elements along axis=1 (sum elements in each row)"
      ],
      "execution_count": null,
      "outputs": [
        {
          "output_type": "execute_result",
          "data": {
            "text/plain": [
              "array([3, 7, 5])"
            ]
          },
          "metadata": {
            "tags": []
          },
          "execution_count": 35
        }
      ]
    },
    {
      "cell_type": "markdown",
      "metadata": {
        "id": "0DIHKuYVvdM1"
      },
      "source": [
        "---"
      ]
    },
    {
      "cell_type": "markdown",
      "metadata": {
        "id": "dHtJqZ7QvdM1"
      },
      "source": [
        "<center>Feeling confident about linear algebra? I hope so!</center>\n",
        "\n",
        "<img src=\"https://github.com/LDSSA/ds-prep-course-2021/blob/main/Week%2008/SLU13%20-%20Linear%20Algebra%20%26%20NumPy%2C%20Part%202/media/we_got_this.gif?raw=1\"/>\n",
        "\n",
        "<br>\n",
        "\n",
        "You might want to take a break now. Do some breathing exercises, eat a chocolate, get some rest...\n",
        "\n",
        "I know I will."
      ]
    },
    {
      "cell_type": "markdown",
      "metadata": {
        "id": "8D6iZEAavdM2"
      },
      "source": [
        "---"
      ]
    },
    {
      "cell_type": "markdown",
      "metadata": {
        "id": "a7443j2VvdM2"
      },
      "source": [
        "## Time to make a choice..."
      ]
    },
    {
      "cell_type": "markdown",
      "metadata": {
        "id": "UN4nWf02vdM3"
      },
      "source": [
        "Do you wish to dive deeper into linear algebra?\n",
        "\n",
        "---\n",
        "\n",
        "<img src=\"https://github.com/LDSSA/ds-prep-course-2021/blob/main/Week%2008/SLU13%20-%20Linear%20Algebra%20%26%20NumPy%2C%20Part%202/media/choice.jpg?raw=1\" width=\"800\"/>\n",
        "\n",
        "---"
      ]
    },
    {
      "cell_type": "markdown",
      "metadata": {
        "id": "xLhmZDKVvdM3"
      },
      "source": [
        "🔴 [Click here to **discover the workings of the matrix**.](#4.-Systems-of-Linear-Equations) (optional sections)\n",
        "\n",
        "\n",
        "🔵 [Click here to **use NumPy in \"blissful\" ignorance**.](#Reading-the-matrix-form-of-the-multiple-linear-regression-solution)"
      ]
    },
    {
      "cell_type": "markdown",
      "metadata": {
        "id": "D2YdrsSpvdM4"
      },
      "source": [
        "---"
      ]
    },
    {
      "cell_type": "markdown",
      "metadata": {
        "id": "KFf66DZAvdM5"
      },
      "source": [
        "\n",
        "\n",
        "\n",
        "\n",
        "\n",
        "\n",
        "\n",
        "\n",
        "\n",
        "\n"
      ]
    },
    {
      "cell_type": "markdown",
      "metadata": {
        "id": "6TYt3OMqvdM5"
      },
      "source": [
        "\n",
        "\n",
        "\n",
        "\n",
        "\n",
        "\n",
        "\n",
        "\n",
        "\n",
        "\n"
      ]
    },
    {
      "cell_type": "markdown",
      "metadata": {
        "id": "siBxOjczvdM6"
      },
      "source": [
        "\n",
        "\n",
        "\n",
        "\n",
        "\n",
        "\n",
        "\n",
        "\n",
        "\n",
        "\n"
      ]
    },
    {
      "cell_type": "markdown",
      "metadata": {
        "id": "yo9fgKYMvdM6"
      },
      "source": [
        "\n",
        "\n",
        "\n",
        "\n",
        "\n",
        "\n",
        "\n",
        "\n",
        "\n",
        "\n"
      ]
    },
    {
      "cell_type": "markdown",
      "metadata": {
        "id": "5b9aackuvdM7"
      },
      "source": [
        "<center>Up up up!! Choose you must.</center>\n",
        "\n",
        "\n",
        "\n",
        "\n",
        "\n",
        "\n",
        "\n",
        "\n",
        "\n"
      ]
    },
    {
      "cell_type": "markdown",
      "metadata": {
        "id": "KOwGyEB1vdM7"
      },
      "source": [
        "\n",
        "\n",
        "\n",
        "\n",
        "\n",
        "\n",
        "\n",
        "\n",
        "\n",
        "\n"
      ]
    },
    {
      "cell_type": "markdown",
      "metadata": {
        "id": "XIpItCknvdM7"
      },
      "source": [
        "\n",
        "\n",
        "\n",
        "\n",
        "\n",
        "\n",
        "\n",
        "\n",
        "\n",
        "\n"
      ]
    },
    {
      "cell_type": "markdown",
      "metadata": {
        "id": "JRQQj7k4vdM8"
      },
      "source": [
        "\n",
        "\n",
        "\n",
        "\n",
        "\n",
        "\n",
        "\n",
        "\n",
        "\n",
        "\n"
      ]
    },
    {
      "cell_type": "markdown",
      "metadata": {
        "id": "r4g4RFBnvdM8"
      },
      "source": [
        "\n",
        "\n",
        "\n",
        "\n",
        "\n",
        "\n",
        "\n",
        "\n",
        "\n",
        "\n"
      ]
    },
    {
      "cell_type": "markdown",
      "metadata": {
        "id": "XQB9-UAfvdM9"
      },
      "source": [
        "---"
      ]
    },
    {
      "cell_type": "markdown",
      "metadata": {
        "id": "AwiRoMu2vdM9"
      },
      "source": [
        "## 4. Systems of Linear Equations\n",
        "### (optional section)"
      ]
    },
    {
      "cell_type": "markdown",
      "metadata": {
        "id": "aj3fpjuLvdM9"
      },
      "source": [
        "---"
      ]
    },
    {
      "cell_type": "markdown",
      "metadata": {
        "id": "0vPSzXs_vdM-"
      },
      "source": [
        "You chose well.\n",
        "\n",
        "<img src=\"https://github.com/LDSSA/ds-prep-course-2021/blob/main/Week%2008/SLU13%20-%20Linear%20Algebra%20%26%20NumPy%2C%20Part%202/media/proud.gif?raw=1\"/>"
      ]
    },
    {
      "cell_type": "markdown",
      "metadata": {
        "id": "s6Zsh43CvdM-"
      },
      "source": [
        "---"
      ]
    },
    {
      "cell_type": "markdown",
      "metadata": {
        "id": "Hsto6rnpvdM-"
      },
      "source": [
        "### 4.1 School days"
      ]
    },
    {
      "cell_type": "markdown",
      "metadata": {
        "id": "rp1tcLcXvdM_"
      },
      "source": [
        "Remember studying systems of linear equations in Maths class? A simple linear system would look something like this:\n",
        "\n",
        "$\\left\\{\n",
        "    \\begin{align*}\n",
        "        x_{1} + 2x_{2} = 5\\\\ \n",
        "        2x_{1} - x_{2} = 2\\\\ \n",
        "    \\end{align*}\n",
        "\\right.$\n",
        "\n",
        "I know, you probably used to see an $x$ and a $y$ there. But using this notation will make things much clearer when we jump into the matrix form.\n",
        "\n",
        "How did you learn to [solve this at school](https://www.mathsisfun.com/algebra/systems-linear-equations.html)? The way I learned it was to use the [substitution method](https://www.khanacademy.org/math/algebra-home/alg-system-of-equations/alg-solving-systems-of-equations-with-substitution/v/solving-linear-systems-by-substitution). It would look something like this:\n",
        "\n",
        "**Old school step 1** - Use the first equation to solve for $x_1$:\n",
        "\n",
        "$x_1 = 5 - 2x_2$\n",
        "\n",
        "**Old school step 2** - Replace (*substitute*) $x_1$ in the second equation for $5 - 2x_2$ and find the value of $x_2$:\n",
        "\n",
        "$2\\times(5 - 2x_2) - x_2 = 2 \\iff x_2 = \\frac{8}{5}$\n",
        "\n",
        "**Old school step 3** - Now you would just replace the value you found for $x_2$ in the first equation, and get $x_1 = \\frac{9}{5}$.\n",
        "\n",
        "Don't you feel nostalgic right now?"
      ]
    },
    {
      "cell_type": "markdown",
      "metadata": {
        "id": "dveZ-P55vdM_"
      },
      "source": [
        "---"
      ]
    },
    {
      "cell_type": "markdown",
      "metadata": {
        "id": "jFitfRXevdNA"
      },
      "source": [
        "> 📝 **Pen and paper exercise 4**: Draw the lines described by the 2 equations of our linear system on the xy-plane; check that they intersect.\n",
        "> \n",
        "> If they didn't intersect, meaning they would be parallel, you would have two possibilities:\n",
        "> - The system has no solution, meaning that the lines are parallel and distinct, **or**\n",
        "> - The lines would coincide, that is, the two equations would represent the same line, thus the system would have infinite solutions."
      ]
    },
    {
      "cell_type": "markdown",
      "metadata": {
        "id": "lqYs_zJDvdNA"
      },
      "source": [
        "### 4.2 Using matrices to represent systems of linear equations"
      ]
    },
    {
      "cell_type": "markdown",
      "metadata": {
        "id": "Lc5gZIgvvdNB"
      },
      "source": [
        "We can represent our system:\n",
        "\n",
        "$\\left\\{\n",
        "    \\begin{align*}\n",
        "        x_1 + 2x_2 = 5\\\\ \n",
        "        2x_1 - x_2 = 2\\\\ \n",
        "    \\end{align*}\n",
        "\\right.$\n",
        "\n",
        "as a multiplication of a matrix $\\mathbf{A}$ by a vector $\\mathbf{x}$, as follows:\n",
        "\n",
        "$\\begin{bmatrix}\n",
        "    1 & 2\\\\\n",
        "    2 & -1\n",
        "\\end{bmatrix}\n",
        "\\begin{bmatrix}\n",
        "    x_1\\\\\n",
        "    x_2\n",
        "\\end{bmatrix} = \n",
        "\\begin{bmatrix}\n",
        "    5\\\\\n",
        "    2\n",
        "\\end{bmatrix}\n",
        "$\n",
        "\n",
        "If you don't believe me, compute the matrix product on the left side of the equation, and check that you get the same equations of our linear system."
      ]
    },
    {
      "cell_type": "markdown",
      "metadata": {
        "id": "SKJBxojzvdNB"
      },
      "source": [
        "---"
      ]
    },
    {
      "cell_type": "markdown",
      "metadata": {
        "id": "yZLmmVXPvdNC"
      },
      "source": [
        "**Bridge to linear regression:**\n",
        "\n",
        "In very simplistic terms, you can think of the matrix formulation of the linear regression as $\\mathbf{y} = \\mathbf{X}\\mathbf{b}$, where you use your matrix input data, $\\mathbf{X}$, and your known outcome values, $\\mathbf{y}$, to find the **unknown** vector of coefficients, $\\mathbf{b}$. Once you find $\\mathbf{b}$, you can predict $\\mathbf{y}$ for any new value of $\\mathbf{X}$\n",
        "\n",
        "❗️ **Notice that the notation is different** from ours. In linear regression, $\\mathbf{X}$ corresponds to $\\mathbf{A}$, $\\mathbf{b}$ to our unknown values $\\mathbf{x}$, and $\\mathbf{y}$ to $\\mathbf{b}$.\n",
        "\n",
        "---\n",
        "\n",
        "❗️ *In \"real life\", we can't build \"simple and perfect\" systems of linear equations, like we do here, but understanding the basics will give you a good starting point.*\n",
        "\n",
        "---"
      ]
    },
    {
      "cell_type": "markdown",
      "metadata": {
        "id": "HzWLoukovdNC"
      },
      "source": [
        "When you actually start looking into the Maths behind machine learning algorithms, you'll probably think to yourself:\n",
        "\n",
        "\"*I wish Calculus and Statistics were as easy as Linear Algebra. (sad face)*\""
      ]
    },
    {
      "cell_type": "markdown",
      "metadata": {
        "id": "zVBRCdAivdND"
      },
      "source": [
        "---"
      ]
    },
    {
      "cell_type": "markdown",
      "metadata": {
        "id": "fBzCrF2OvdND"
      },
      "source": [
        "<center><i>Did someone just say 'Calculus' and 'Statistics'???</i></center>\n",
        "    \n",
        "<img src=\"https://github.com/LDSSA/ds-prep-course-2021/blob/main/Week%2008/SLU13%20-%20Linear%20Algebra%20%26%20NumPy%2C%20Part%202/media/scream.gif?raw=1\" width=\"400\"/>\n",
        "    \n",
        "<br>\n",
        "<br>\n",
        "    \n",
        "<center>Yep, sooner or later, they will find you and they will haunt you. For now, let's just focus on strengthening your linear algebra skills.</center>"
      ]
    },
    {
      "cell_type": "markdown",
      "metadata": {
        "id": "jl6ysWQVvdNE"
      },
      "source": [
        "---"
      ]
    },
    {
      "cell_type": "markdown",
      "metadata": {
        "id": "1-9rEwUrvdNE"
      },
      "source": [
        "### 4.3 Solving systems of linear equations with Gauss-Jordan elimination"
      ]
    },
    {
      "cell_type": "markdown",
      "metadata": {
        "id": "w8XgUmzevdNF"
      },
      "source": [
        "Remember that the matrix product $\\mathbf{A}\\mathbf{x}$ is a **linear combination of the columns in $\\mathbf{A}$**:\n",
        "\n",
        "$$\\mathbf{b} = \\begin{bmatrix}\n",
        "    a_{1,1}x_1 + a_{1,2}x_2 + ... + a_{1,n} x_n\\\\\n",
        "    a_{2,1}x_1 + a_{2,2}x_2 + ... + a_{2,n} x_n\\\\\n",
        "    \\vdots\\\\\n",
        "    a_{m,1}x_1 + a_{m,2}x_2 + ... + a_{m,n} x_n\\\\\n",
        "\\end{bmatrix} = x_1\n",
        "\\begin{bmatrix}\n",
        "    a_{1,1}\\\\\n",
        "    a_{2,1}\\\\\n",
        "    \\vdots\\\\\n",
        "    a_{m,1}\\\\\n",
        "\\end{bmatrix} + x_2\n",
        "\\begin{bmatrix}\n",
        "    a_{1,2}\\\\\n",
        "    a_{2,2}\\\\\n",
        "    \\vdots\\\\\n",
        "    a_{m,2}\\\\\n",
        "\\end{bmatrix} + ... + x_n\n",
        "\\begin{bmatrix}\n",
        "    a_{1,n}\\\\\n",
        "    a_{2,n}\\\\\n",
        "    \\vdots\\\\\n",
        "    a_{m,n}\\\\\n",
        "\\end{bmatrix}\n",
        "$$"
      ]
    },
    {
      "cell_type": "markdown",
      "metadata": {
        "id": "eMI6Y0SIvdNF"
      },
      "source": [
        "> 📌 **Tip**: __If matrix $\\mathbf{A}$ is a square matrix ($m=n$) and is invertible__, we can always find an $\\mathbf{x}$ for any given $\\mathbf{b}$.\n",
        "> \n",
        "> It's just about determining $\\mathbf{x} = \\mathbf{A}^{-1}\\mathbf{b}$ (we'll get there)."
      ]
    },
    {
      "cell_type": "markdown",
      "metadata": {
        "id": "uvrUKNXkvdNG"
      },
      "source": [
        "You might remember that the **3 possible outcomes of a linear system** are:\n",
        "\n",
        "1. the system has **no solution** (also called an **inconsistent** system);\n",
        "2. the system has **a unique solution**;\n",
        "3. the system has **an infinite number of solutions**;"
      ]
    },
    {
      "cell_type": "markdown",
      "metadata": {
        "id": "2UgpwqIvvdNJ"
      },
      "source": [
        "#### 4.3.1 Walkthrough example"
      ]
    },
    {
      "cell_type": "markdown",
      "metadata": {
        "id": "1AUqnVJZvdNK"
      },
      "source": [
        "Consider the following system of linear equations (3 equations, 3 unknowns):\n",
        "\n",
        "$\\left\\{\n",
        "    \\begin{align*}\n",
        "        x_1 + 2x_2 + 3x_3 = 2\\\\ \n",
        "        4x_1 + x_2 + 2x_3 = 3\\\\ \n",
        "        x_1 + x_2 + x_3 = 1\n",
        "    \\end{align*}\n",
        "\\right.$\n",
        "\n",
        "We can write it in matrix form as\n",
        "$\\;\\;\\mathbf{A}\\mathbf{x} = \\mathbf{b} \\iff \\begin{bmatrix}\n",
        "    1 & 2 & 3\\\\\n",
        "    4 & 1 & 2\\\\\n",
        "    1 & 1 & 1\\\\\n",
        "\\end{bmatrix}\n",
        "\\begin{bmatrix}\n",
        "    x_1\\\\\n",
        "    x_2\\\\\n",
        "    x_3\n",
        "\\end{bmatrix} = \n",
        "\\begin{bmatrix}\n",
        "    2\\\\\n",
        "    3\\\\\n",
        "    1\n",
        "\\end{bmatrix}\n",
        "$."
      ]
    },
    {
      "cell_type": "markdown",
      "metadata": {
        "id": "T8Qy4VQFvdNL"
      },
      "source": [
        "```\n",
        "Instructor: -\"What do you think? Will this system have (i) no solution, (ii) a unique solution or (iii) an infinite number of solutions?\"\n",
        "Student: -\"No idea...\"\n",
        "Instructor: -\"Haha me neither! Just made those numbers up, so let's check it out...\"\n",
        "```"
      ]
    },
    {
      "cell_type": "markdown",
      "metadata": {
        "id": "zUeIip1vvdNM"
      },
      "source": [
        "**Gauss-Jordan elimination:**\n",
        "\n",
        "Gauss-Jordan elimination method is a method to solve a linear system in matrix form, using an augmented matrix, $\\mathbf{A} | \\mathbf{b}$, and changing it within a given set of rules, until we get to the **reduced row echelon form**, where **all entries below the diagonal are zeros and the first nonzero number in each row is $1$**.\n",
        "\n",
        "If we can get to such a form, and if our matrix is square, then it means we have a unique solution, and we can continue reducing the left matrix to the identity, getting the solution vector on the right side. Let's use this in our example."
      ]
    },
    {
      "cell_type": "markdown",
      "metadata": {
        "id": "EExT2ZM7vdNM"
      },
      "source": [
        "---"
      ]
    },
    {
      "cell_type": "markdown",
      "metadata": {
        "id": "l3pBh2nPvdNN"
      },
      "source": [
        "**Step 1** - represent our system by an augmented matrix:\n",
        "\n",
        "$\\mathbf{A}|\\mathbf{b} = \\left[\\begin{array}{ccc|c}  \n",
        "    1 & 2 & 3 & 2\\\\  \n",
        "    4 & 1 & 2 & 3\\\\\n",
        "    1 & 1 & 1 & 1\n",
        "\\end{array}\\right]$\n",
        "\n",
        "#### Elementary row operations (EROs):\n",
        "\n",
        "Our goal is to reach the **reduced row echelon form**. For that we can operate on our matrix $\\mathbf{A}$, using any number of the 3 elementary row operations:\n",
        "\n",
        "- **ERO 1**: Interchange any two equations (rows in the augmented matrix);\n",
        "\n",
        "- **ERO 2**: Multiply any equation (row) by a **nonzero** constant;\n",
        "\n",
        "- **ERO 3**: Add a multiple of one equation (row) to another.\n",
        "\n",
        "These rules are all just basic arithmetics you can perform on equations, without changing the system's solution (if it exists)."
      ]
    },
    {
      "cell_type": "markdown",
      "metadata": {
        "id": "pbSi8JY1vdNN"
      },
      "source": [
        "**Step 2** - find the reduced row echelon form, using elementary row operations (ERO):\n",
        "\n",
        "Because we like columns, let's perform the elimination column by column. If you look at our augmented matrix, we already have a $1$ as the first element in the first entry of the diagonal. Going along the first column, how can we reduce that $4$ into a $0$, using EROs?\n",
        "\n",
        "We could, for example, add the first row ($R_1$), multiplied by $-4$, to the second row ($R_2$):\n",
        "\n",
        "$R_2 - 4 R_1 = \\left[\\begin{array}{ccc|c}4 & 1 & 2 & 3\\end{array}\\right] - 4\\cdot \\left[\\begin{array}{ccc|c}1 & 2 & 3 & 2\\end{array}\\right] = \\left[\\begin{array}{ccc|c}0 & -7 & -10 & -5\\end{array}\\right]$\n",
        "\n",
        "which we represent as:\n",
        "\n",
        "$\\left[\\begin{array}{ccc|c}  \n",
        "    1 & 2 & 3 & 2\\\\  \n",
        "    4 & 1 & 2 & 3\\\\\n",
        "    1 & 1 & 1 & 1\n",
        "\\end{array}\\right]\\xrightarrow{R_2 - 4 R_1 \\to R_2}\n",
        "\\left[\\begin{array}{ccc|c}  \n",
        "    1 & 2 & 3 & 2\\\\  \n",
        "    0 & -7 & -10 & -5\\\\\n",
        "    1 & 1 & 1 & 1\n",
        "\\end{array}\\right]$"
      ]
    },
    {
      "cell_type": "markdown",
      "metadata": {
        "id": "aLIXtHjmvdNO"
      },
      "source": [
        "Let's finish reducing column 1, using a similar strategy:\n",
        "\n",
        "$\\left[\\begin{array}{ccc|c}  \n",
        "    1 & 2 & 3 & 2\\\\  \n",
        "    0 & -7 & -10 & -5\\\\\n",
        "    1 & 1 & 1 & 1\n",
        "\\end{array}\\right]\\xrightarrow{R_3 - R_1 \\to R_3}\n",
        "\\left[\\begin{array}{ccc|c}  \n",
        "    1 & 2 & 3 & 2\\\\  \n",
        "    0 & -7 & -10 & -5\\\\\n",
        "    0 & -1 & -2 & -1\n",
        "\\end{array}\\right]\n",
        "$"
      ]
    },
    {
      "cell_type": "markdown",
      "metadata": {
        "id": "MoLDye3LvdNP"
      },
      "source": [
        "We're finished reducing our first column!\n",
        "\n",
        "Let's now go to the second column. Remember we want to get to a matrix where all entries below the diagonal are zeros and all entries in the diagonal are ones. For that we need to reduce that $-7$ in the diagonal of column 2, to $1$. Take a moment to think about which row could you use to do that, without messing up with column 1.\n",
        "\n",
        "That's right, we can only use the third row. If we used the first, we would \"undo\" our work for the first column!\n",
        "\n",
        "$\\left[\\begin{array}{ccc|c}  \n",
        "    1 & 2 & 3 & 2\\\\  \n",
        "    0 & -7 & -10 & -5\\\\\n",
        "    0 & -1 & -2 & -1\n",
        "\\end{array}\\right]\\xrightarrow{R_2 - 8 R_3 \\to R_2}\n",
        "\\left[\\begin{array}{ccc|c}  \n",
        "    1 & 2 & 3 & 2\\\\  \n",
        "    0 & 1 & 6 & 3\\\\\n",
        "    0 & -1 & -2 & -1\n",
        "\\end{array}\\right]$"
      ]
    },
    {
      "cell_type": "markdown",
      "metadata": {
        "id": "eCeMenzUvdNP"
      },
      "source": [
        "By now, you would reduce that $-1$ at the end of the second column and then go to the last element of the third column and reduce it to $1$. Let's do both:\n",
        "\n",
        "$\\left[\\begin{array}{ccc|c}  \n",
        "    1 & 2 & 3 & 2\\\\  \n",
        "    0 & 1 & 6 & 3\\\\\n",
        "    0 & -1 & -2 & -1\n",
        "\\end{array}\\right]\\xrightarrow{R_3 + R_2 \\to R_3}\n",
        "\\left[\\begin{array}{ccc|c}  \n",
        "    1 & 2 & 3 & 2\\\\  \n",
        "    0 & 1 & 6 & 3\\\\\n",
        "    0 & 0 & 4 & 2\n",
        "\\end{array}\\right]\\xrightarrow{\\frac{1}{4}R_3 \\to R_3}\n",
        "\\left[\\begin{array}{ccc|c}  \n",
        "    1 & 2 & 3 & 2\\\\  \n",
        "    0 & 1 & 6 & 3\\\\\n",
        "    0 & 0 & 1 & \\frac{1}{2}\n",
        "\\end{array}\\right]\n",
        "$"
      ]
    },
    {
      "cell_type": "markdown",
      "metadata": {
        "id": "JaNV0bPMvdNQ"
      },
      "source": [
        "---"
      ]
    },
    {
      "cell_type": "markdown",
      "metadata": {
        "id": "5o9yA4wevdNQ"
      },
      "source": [
        "*Just like with Rubik's cube... if you follow the algorithm, slowly but steady, you start to see the solution appearing.*"
      ]
    },
    {
      "cell_type": "markdown",
      "metadata": {
        "id": "9RbTXH8UvdNR"
      },
      "source": [
        "---"
      ]
    },
    {
      "cell_type": "markdown",
      "metadata": {
        "id": "c1v49QBhvdNR"
      },
      "source": [
        "By now, we already can see from the last row, that we found the value for $x_3$!\n",
        "\n",
        "To get the entire solution vector $\\mathbf{x}$, let's reduce the left side to the identity matrix!!\n",
        "\n",
        "*One can only love the identity matrix...*\n",
        "\n",
        "Let's continue using EROs to get to the identity matrix:\n",
        "\n",
        "$\\left[\\begin{array}{ccc|c}  \n",
        "    1 & 2 & 3 & 2\\\\  \n",
        "    0 & 1 & 6 & 3\\\\\n",
        "    0 & 0 & 1 & \\frac{1}{2}\n",
        "\\end{array}\\right]\\xrightarrow{R_1 - 2 R_2 \\to R_1}\n",
        "\\left[\\begin{array}{ccc|c}  \n",
        "    1 & 0 & -9 & -4\\\\  \n",
        "    0 & 1 & 6 & 3\\\\\n",
        "    0 & 0 & 1 & \\frac{1}{2}\n",
        "\\end{array}\\right]\\xrightarrow{R_1 + 9 R_3 \\to R_1}\n",
        "\\left[\\begin{array}{ccc|c}  \n",
        "    1 & 0 & 0 & \\frac{1}{2}\\\\  \n",
        "    0 & 1 & 6 & 3\\\\\n",
        "    0 & 0 & 1 & \\frac{1}{2}\n",
        "\\end{array}\\right]\\xrightarrow{R_2 - 6 R_3 \\to R_2}\n",
        "\\left[\\begin{array}{ccc|c}  \n",
        "    1 & 0 & 0 & \\frac{1}{2}\\\\  \n",
        "    0 & 1 & 0 & 0\\\\\n",
        "    0 & 0 & 1 & \\frac{1}{2}\n",
        "\\end{array}\\right]$"
      ]
    },
    {
      "cell_type": "markdown",
      "metadata": {
        "id": "Gl65RyTmvdNS"
      },
      "source": [
        "That's it! We've found our identity matrix, and therefore the solution vector $\\mathbf{x}$!! Beautiful. 😍\n",
        "\n",
        "Rewriting this as a system of linear equations, the solution becomes:\n",
        "\n",
        "$\\left\\{\n",
        "    \\begin{align*}\n",
        "        x_1 = \\frac{1}{2}\\\\ \n",
        "        x_2 = 0\\;\\\\ \n",
        "        x_3 = \\frac{1}{2}\n",
        "    \\end{align*}\n",
        "\\right.$"
      ]
    },
    {
      "cell_type": "markdown",
      "metadata": {
        "id": "aVz97_2wvdNS"
      },
      "source": [
        "From the 3 types of systems we saw before, this one corresponds to a **system with a unique solution**."
      ]
    },
    {
      "cell_type": "markdown",
      "metadata": {
        "id": "6Do_gJAWvdNT"
      },
      "source": [
        "---"
      ]
    },
    {
      "cell_type": "markdown",
      "metadata": {
        "id": "0ipgzVtOvdNT"
      },
      "source": [
        "🙋 *Spotted an error in the calculations? Awesome, [let your instructor know](https://github.com/LDSSA/ds-prep-course-2021/issues/new).*"
      ]
    },
    {
      "cell_type": "markdown",
      "metadata": {
        "id": "3A6a1HgmvdNV"
      },
      "source": [
        "---"
      ]
    },
    {
      "cell_type": "markdown",
      "metadata": {
        "id": "N-_tQfyKvdNV"
      },
      "source": [
        "I'm tired of writing so many matrices... your turn to do the work!! 😁"
      ]
    },
    {
      "cell_type": "markdown",
      "metadata": {
        "id": "Z6a0RSbUvdNW"
      },
      "source": [
        "> 📝 **Pen and paper exercise 5**: Using the solution we found above, check that the result of $\\mathbf{A}\\mathbf{x}$ matches the expected $\\begin{bmatrix}2\\\\3\\\\1\\end{bmatrix}$."
      ]
    },
    {
      "cell_type": "markdown",
      "metadata": {
        "id": "TZvHHJP9vdNW"
      },
      "source": [
        "### 4.4 The inverse was there all along"
      ]
    },
    {
      "cell_type": "markdown",
      "metadata": {
        "id": "FT53mTIHvdNW"
      },
      "source": [
        "**Think about this for a minute:** the operations we did on $\\mathbf{A}$ resulted in the identity matrix, $\\mathbf{I}$. We know that if a matrix $n\\times n$ is invertible, then $\\mathbf{A}\\mathbf{A}^{-1} = I_n$.\n",
        "\n",
        "So, under the hood, we were just performing linear operations that allowed us to transform $\\mathbf{A}$ into its inverse $\\mathbf{A}^{-1}$."
      ]
    },
    {
      "cell_type": "markdown",
      "metadata": {
        "id": "VjrwNFX6vdNX"
      },
      "source": [
        "---"
      ]
    },
    {
      "cell_type": "markdown",
      "metadata": {
        "id": "1ECXDkGxvdNY"
      },
      "source": [
        "<img src=\"https://github.com/LDSSA/ds-prep-course-2021/blob/main/Week%2008/SLU13%20-%20Linear%20Algebra%20%26%20NumPy%2C%20Part%202/media/shocked.gif?raw=1\" width=\"400\"/>"
      ]
    },
    {
      "cell_type": "markdown",
      "metadata": {
        "id": "hf-U1sgHvdNY"
      },
      "source": [
        "---"
      ]
    },
    {
      "cell_type": "markdown",
      "metadata": {
        "id": "046HtLy-vdNZ"
      },
      "source": [
        "```\n",
        "(We are shaking some tombs here...)\n",
        "    Jordan: -\"Oh you think that's interesting? You don't know half the story...\"\n",
        "    Gauss: -\"Is it 'your' story though?\"\n",
        "    Chinese mathematicians: -\"You're all a bunch of copycats.\"\n",
        "    Newton: -\"Here here, have an apple.\"\n",
        "```\n",
        "\n",
        "[A bit of history never hurts.](https://en.wikipedia.org/wiki/Gaussian_elimination#History)"
      ]
    },
    {
      "cell_type": "markdown",
      "metadata": {
        "id": "-eFvWFVSvdNa"
      },
      "source": [
        "---"
      ]
    },
    {
      "cell_type": "markdown",
      "metadata": {
        "id": "Pyy8AcAAvdNa"
      },
      "source": [
        "**Using Gauss-Jordan elimination to find the inverse:**"
      ]
    },
    {
      "cell_type": "markdown",
      "metadata": {
        "id": "TxPLt_f-vdNb"
      },
      "source": [
        "To find the inverse which was hidden all along throughout our Gauss-Jordan elimination, we simply need to insert the identity matrix into our augmented matrix, and include it in the ERO steps:\n",
        "\n",
        "$$\\left[\\begin{array}{ccc|ccc|c}  \n",
        "    1 & 2 & 3 & 1 & 0 & 0 & 2\\\\  \n",
        "    4 & 1 & 2 & 0 & 1 & 0 & 3\\\\\n",
        "    1 & 1 & 1 & 0 & 0 & 1 & 1\n",
        "\\end{array}\\right]$$"
      ]
    },
    {
      "cell_type": "markdown",
      "metadata": {
        "id": "npIh9KZCvdNc"
      },
      "source": [
        "Performing Gauss-Jordan elimination like we did before, we would have:\n",
        "\n",
        "$\\left[\\begin{array}{ccc|ccc|c}  \n",
        "    1 & 2 & 3 & 1 & 0 & 0 & 2\\\\  \n",
        "    4 & 1 & 2 & 0 & 1 & 0 & 3\\\\\n",
        "    1 & 1 & 1 & 0 & 0 & 1 & 1\n",
        "\\end{array}\\right]\\xrightarrow{R_2 - 4R_1\\to R_2}\n",
        "\\left[\\begin{array}{ccc|ccc|c}  \n",
        "    1 & 2 & 3 & 1 & 0 & 0 & 2\\\\  \n",
        "    0 & -7 & -10 & -4 & 1 & 0 & -5\\\\\n",
        "    1 & 1 & 1 & 0 & 0 & 1 & 1\n",
        "\\end{array}\\right]$\n",
        "\n",
        "$\\xrightarrow{}\\dots\\xrightarrow{}\n",
        "\\left[\\begin{array}{ccc|ccc|c}  \n",
        "    1 & 0 & 0 & -\\frac{1}{4} & \\frac{1}{4} & \\frac{1}{4} & \\frac{1}{2}\\\\  \n",
        "    0 & 1 & 0 & -\\frac{1}{2} & -\\frac{1}{2} & \\frac{5}{2} & 0\\\\\n",
        "    0 & 0 & 1 & \\frac{3}{4} & \\frac{1}{4} & -\\frac{7}{4} & \\frac{1}{2}\n",
        "\\end{array}\\right] = \n",
        "\\mathbf{I} | \\mathbf{A}^{-1} | \\mathbf{x}\n",
        "$\n",
        "\n",
        "So the inverse of $\\mathbf{A}$ is:\n",
        "\n",
        "$\\mathbf{A}^{-1} = \n",
        "\\begin{bmatrix}\n",
        "    -\\frac{1}{4} & \\frac{1}{4} & \\frac{1}{4}\\\\  \n",
        "    -\\frac{1}{2} & -\\frac{1}{2} & \\frac{5}{2}\\\\\n",
        "    \\frac{3}{4} & \\frac{1}{4} & -\\frac{7}{4}\n",
        "\\end{bmatrix}$\n",
        "\n",
        "We didn't have to include the last column, in order to find $\\mathbf{A}^{-1}$. But now you see how to get the inverse and the solution (if they exist) at the same time!"
      ]
    },
    {
      "cell_type": "markdown",
      "metadata": {
        "id": "ST4Bhqo5vdNd"
      },
      "source": [
        "---"
      ]
    },
    {
      "cell_type": "markdown",
      "metadata": {
        "id": "b43ZealnvdNd"
      },
      "source": [
        "❗️ **Key takeaways:**\n",
        "\n",
        "> - If we had used any other vector $\\mathbf{b}$ in $\\mathbf{A}|\\mathbf{b}$, we would still be able to find some $\\mathbf{x}$ to solve the equation, and the inverse of $\\mathbf{A}$ would always be the same.\n",
        ">\n",
        "> The fact that we can put any 3D vector in the place of $\\mathbf{b}$, and still find an $\\mathbf{x}$, stems from the fact that the $3\\times 3$ square matrix $\\mathbf{A}$ is invertible, which is due to its column vectors all being linearly independent (they can represent all 3D vectors through linear combinations).\n",
        ">\n",
        "> - If there was no way to transform our left matrix into the identity matrix using the row reduction process, we would say that $\\mathbf{A}$ has no inverse, or that it is **singular**."
      ]
    },
    {
      "cell_type": "markdown",
      "metadata": {
        "id": "Ov_61c83vdNe"
      },
      "source": [
        "---"
      ]
    },
    {
      "cell_type": "markdown",
      "metadata": {
        "id": "M0XNKuqqvdNe"
      },
      "source": [
        "> 📝 **Pen and paper exercise 6**: Perform Gauss-Jordan elimination to find the solution, **if it exists**, and the inverse of $\\mathbf{A}$ (**if it exists**), of the following system:\n",
        ">\n",
        "> $\\;\\;\\mathbf{A}\\mathbf{x} = \\mathbf{b} \\iff\n",
        "\\begin{bmatrix}\n",
        "        2 & 1 & -1\\\\\n",
        "        1 & -3 & 2\\\\\n",
        "        1 & 4 & -3\n",
        "    \\end{bmatrix}\n",
        "    \\mathbf{x} = \n",
        "    \\begin{bmatrix}\n",
        "        7\\\\\n",
        "        1\\\\\n",
        "        5\n",
        "    \\end{bmatrix}$\n",
        ">\n",
        "> What type of system is this? (unique solution, no solution, or infinite number of solutions?)\n",
        ">\n",
        "> Remember you can use any of the [allowed EROs we've learned about](#Elementary-row-operations-(EROs):)."
      ]
    },
    {
      "cell_type": "markdown",
      "metadata": {
        "id": "kM_RnJHrvdNf"
      },
      "source": [
        "### 4.5 Matrix invertibility *vs.* types of linear systems"
      ]
    },
    {
      "cell_type": "markdown",
      "metadata": {
        "id": "6MpxQnikvdNf"
      },
      "source": [
        "For a linear system with $n$ equations and $n$ unknowns:\n",
        "\n",
        "- If we have **a unique solution**, the square matrix $\\mathbf{A}$ is **invertible**;\n",
        "- If we have **an infinite range of solutions**, the square matrix $\\mathbf{A}$ is **singular**;\n",
        "- If we have **no solution**, the square matrix $\\mathbf{A}$ is **singular** **and**, somewhere along the elimination steps, you'll get a row representing an **impossible equation** (something like $0=2$ or $0=-1$)."
      ]
    },
    {
      "cell_type": "code",
      "metadata": {
        "id": "mWnYvKdKvdNf"
      },
      "source": [
        "## Uncomment the lines below to check the inverse (if it exists) of A in exercise 6\n",
        "#A = np.array([[2, 1, -1], [1, -3, 2], [1, 4, -3]])\n",
        "#np.linalg.inv(A)"
      ],
      "execution_count": null,
      "outputs": []
    },
    {
      "cell_type": "markdown",
      "metadata": {
        "id": "cQbmry2avdNg"
      },
      "source": [
        "---"
      ]
    },
    {
      "cell_type": "markdown",
      "metadata": {
        "id": "AhBgDmghvdNg"
      },
      "source": [
        "<img src=\"https://github.com/LDSSA/ds-prep-course-2021/blob/main/Week%2008/SLU13%20-%20Linear%20Algebra%20%26%20NumPy%2C%20Part%202/media/no_time.png?raw=1\"/>"
      ]
    },
    {
      "cell_type": "markdown",
      "metadata": {
        "id": "uTdFXTpYvdNg"
      },
      "source": [
        "---"
      ]
    },
    {
      "cell_type": "markdown",
      "metadata": {
        "id": "eLIWSN14vdNh"
      },
      "source": [
        "### 4.6 Solving linear equations in NumPy"
      ]
    },
    {
      "cell_type": "markdown",
      "metadata": {
        "id": "_RyY-cPVvdNh"
      },
      "source": [
        "Let's see if we can solve the same system we did before, with a few lines of code and NumPy's amazing collection of linear algebra functions, [`numpy.linalg`](https://numpy.org/doc/1.20/reference/routines.linalg.html).\n",
        "\n",
        "$\\left\\{\n",
        "    \\begin{align*}\n",
        "        x_1 + 2x_2 + 3x_3 = 2\\\\ \n",
        "        4x_1 + x_2 + 2x_3 = 3\\\\ \n",
        "        x_1 + x_2 + x_3 = 1\n",
        "    \\end{align*}\n",
        "\\right.$"
      ]
    },
    {
      "cell_type": "markdown",
      "metadata": {
        "id": "Bw0m68-3vdNh"
      },
      "source": [
        "---"
      ]
    },
    {
      "cell_type": "markdown",
      "metadata": {
        "id": "UkQGfHpIvdNi"
      },
      "source": [
        "**1 - (*super lazy method*) Use [`numpy.linalg.solve()`](https://numpy.org/doc/1.20/reference/generated/numpy.linalg.solve.html):**"
      ]
    },
    {
      "cell_type": "code",
      "metadata": {
        "id": "Cn2-i7tAvdNi",
        "outputId": "342c5c57-911a-4e8d-ff60-c5f55a3a735b"
      },
      "source": [
        "# matrix of coefficients A\n",
        "A = np.array([[1,2,3], [4,1,2], [1,1,1]])  # 2D array\n",
        "# colum nvector b\n",
        "b = np.array([[2], [3], [1]])  # 2D array\n",
        "\n",
        "np.linalg.solve(A, b)"
      ],
      "execution_count": null,
      "outputs": [
        {
          "output_type": "execute_result",
          "data": {
            "text/plain": [
              "array([[0.5],\n",
              "       [0. ],\n",
              "       [0.5]])"
            ]
          },
          "metadata": {
            "tags": []
          },
          "execution_count": 37
        }
      ]
    },
    {
      "cell_type": "markdown",
      "metadata": {
        "id": "fw7ppvcOvdNj"
      },
      "source": [
        "Exactly what we got when solving with Gauss-Jordan elimination!! *Just a hundred times faster...* 😅😅"
      ]
    },
    {
      "cell_type": "markdown",
      "metadata": {
        "id": "uNdV4TO6vdNj"
      },
      "source": [
        "---"
      ]
    },
    {
      "cell_type": "markdown",
      "metadata": {
        "id": "Jlna2mYEvdNj"
      },
      "source": [
        "**2 - (*not so lazy method*) Use `numpy.linalg.inv()` to find the inverse and then solve for $\\mathbf{x}$:**"
      ]
    },
    {
      "cell_type": "markdown",
      "metadata": {
        "id": "9HhH9Su5vdNk"
      },
      "source": [
        "We can rearrange the equation $\\mathbf{A}\\mathbf{x} = \\mathbf{b}$ by multiplying both sides of the equation by $\\mathbf{A}^{-1}$: $\\;\\;\\;\\;\\mathbf{A}^{-1}\\mathbf{A}\\mathbf{x} = \\mathbf{A}^{-1}\\mathbf{b}$\n",
        "\n",
        "We know that, **if $\\mathbf{A}$ is invertible, then $\\mathbf{A}^{-1}\\mathbf{A} = \\mathbf{I}$**, so we can simplify this equation to: $\\;\\;\\;\\;\\mathbf{I}\\mathbf{x} = \\mathbf{A}^{-1}\\mathbf{b}$\n",
        "\n",
        "We also know that the identity matrix does not change another matrix (or vector) when multiplied by it, therefore we can write: $\\;\\;\\;\\;\\mathbf{x} = \\mathbf{A}^{-1}\\mathbf{b}$"
      ]
    },
    {
      "cell_type": "markdown",
      "metadata": {
        "id": "RD2Bf9dzvdNk"
      },
      "source": [
        "After having checked if $\\mathbf{A}$ is invertible (which we do using `np.linalg.inv()`), we apply this equation in NumPy and get the vector $\\mathbf{x}$:"
      ]
    },
    {
      "cell_type": "code",
      "metadata": {
        "scrolled": true,
        "id": "ZYbiJ596vdNl",
        "outputId": "761cf074-9668-42e6-baef-5ac6124c2e29"
      },
      "source": [
        "# If A is invertible, Ax = b => x = A^{-1} b\n",
        "\n",
        "# our matrix A (3x3)\n",
        "A = np.array([[1,2,3], \n",
        "              [4,1,2], \n",
        "              [1,1,1]])\n",
        "\n",
        "# our vector b (3x1)\n",
        "b = np.array([[2],\n",
        "              [3],\n",
        "              [1]])\n",
        "\n",
        "# the inverse of A (3x3)\n",
        "A_inv = np.linalg.inv(A)\n",
        "\n",
        "# the solution vector x (3x1)\n",
        "x = np.matmul(A_inv, b)\n",
        "\n",
        "# print solution\n",
        "print(\"x = \", x)"
      ],
      "execution_count": null,
      "outputs": [
        {
          "output_type": "stream",
          "text": [
            "x =  [[0.5]\n",
            " [0. ]\n",
            " [0.5]]\n"
          ],
          "name": "stdout"
        }
      ]
    },
    {
      "cell_type": "markdown",
      "metadata": {
        "id": "qFEoV2RtvdNl"
      },
      "source": [
        "Yep, that's the expected result."
      ]
    },
    {
      "cell_type": "markdown",
      "metadata": {
        "id": "3Fjs2ieEvdNm"
      },
      "source": [
        "---"
      ]
    },
    {
      "cell_type": "markdown",
      "metadata": {
        "id": "E4wOoqu2vdNm"
      },
      "source": [
        "**For the math nerds**:\n",
        "\n",
        "Check [this video](https://youtu.be/J7DzL2_Na80?list=PL221E2BBF13BECF6C) if you're curious to learn about the geometry of linear equations."
      ]
    },
    {
      "cell_type": "markdown",
      "metadata": {
        "id": "axqe0TL7vdNn"
      },
      "source": [
        "---"
      ]
    },
    {
      "cell_type": "markdown",
      "metadata": {
        "id": "Lviepg6wvdNo"
      },
      "source": [
        "<img src=\"https://github.com/LDSSA/ds-prep-course-2021/blob/main/Week%2008/SLU13%20-%20Linear%20Algebra%20%26%20NumPy%2C%20Part%202/media/almost.gif?raw=1\" width=\"400\"/>\n",
        "\n",
        "<center>Only one more section to go...</center>"
      ]
    },
    {
      "cell_type": "markdown",
      "metadata": {
        "id": "w0rSAaYevdNp"
      },
      "source": [
        "---"
      ]
    },
    {
      "cell_type": "markdown",
      "metadata": {
        "id": "42VIQcQlvdNp"
      },
      "source": [
        "## 5. Eigenvalues and eigenvectors\n",
        "### (optional section)"
      ]
    },
    {
      "cell_type": "markdown",
      "metadata": {
        "id": "E2KcpwltvdNq"
      },
      "source": [
        "The words **eigenvalue** and **eigenvector** come from the german *Eigen*, meaning \"own\", or \"characteristic\":"
      ]
    },
    {
      "cell_type": "markdown",
      "metadata": {
        "id": "1EgRFCTJvdNq"
      },
      "source": [
        "<a name=\"vector_def\"></a>\n",
        "<div class=\"alert alert-block alert-info\">\n",
        "    If we obtain a scaled version of the <b>non-zero</b> vector $\\mathbf{x}$, $\\;\\;\\lambda\\mathbf{x}\\;$, when  multiplying a square matrix $\\mathbf{A}$ by that vector, $\\;\\;\\mathbf{A}\\mathbf{x}\\;$, then we say that $\\mathbf{x}$ is an <b>eigenvector</b> and $\\lambda$ is an <b>eigenvalue</b>:\n",
        "$$\\mathbf{A}\\mathbf{x} = \\lambda\\mathbf{x}$$\n",
        "</div>\n"
      ]
    },
    {
      "cell_type": "markdown",
      "metadata": {
        "id": "EMFtBQrdvdNq"
      },
      "source": [
        "Think about what this means: it means that by using only 1 scalar, you can get the same vector as using one entire matrix (potentially huge). It's as if you're \"magically\" reducing the number of dimensions in your data matrix, thus simplifying your problem, thus taking away a lot of computational burden.\n",
        "\n",
        "So, reducing the dimensionality of our data seems pretty useful... but how do we find those 2 unknowns, $\\mathbf{x}$ and $\\lambda$?"
      ]
    },
    {
      "cell_type": "markdown",
      "metadata": {
        "id": "tKtl8zdDvdNr"
      },
      "source": [
        "### 5.1 Enter the determinant"
      ]
    },
    {
      "cell_type": "markdown",
      "metadata": {
        "id": "AJMXRSFyvdNr"
      },
      "source": [
        "To be able to discover eigenvectors $\\mathbf{x}\\neq 0$ and eigenvalues $\\lambda$, we need to first talk about the determinant.\n",
        "\n",
        "The **determinant** of $\\mathbf{A}$, denoted as $\\det(\\mathbf{A})$, or simply $|\\mathbf{A}|$, is a special number that tells us **whether** a **square matrix** is **invertible** or **singular**.\n",
        "\n",
        "For our purposes here, all you need to know is:\n",
        "\n",
        "- If the determinant of a square matrix $\\mathbf{A}$ is zero, $\\det(\\mathbf{A}) = 0$, then $\\mathbf{A}$ is **singular**;\n",
        "- If the determinant of a square matrix $\\mathbf{A}$ is different from zero, $\\det(\\mathbf{A}) \\neq 0$, then $\\mathbf{A}$ is **invertible**.\n",
        "\n",
        "Making the bridge to what we learned about systems of linear equations, we can also say that, for a square matrix $\\mathbf{A}$, of size $n\\times n$:\n",
        "\n",
        "- If $\\det(\\mathbf{A}) = 0$, $\\mathbf{A}$ is **singular** and the system **either** has **no solution**, or **an infinite number of solutions**;\n",
        "- If $\\det(\\mathbf{A}) \\neq 0$, $\\mathbf{A}$ is **invertible** and the system has **a unique solution**."
      ]
    },
    {
      "cell_type": "markdown",
      "metadata": {
        "id": "8ieqWlmgvdNs"
      },
      "source": [
        "#### 5.1.1 Calculating the determinant with NumPy"
      ]
    },
    {
      "cell_type": "markdown",
      "metadata": {
        "id": "5998LpsBvdNs"
      },
      "source": [
        "Let's use [`numpy.linalg.det()`](https://numpy.org/doc/1.20/reference/generated/numpy.linalg.det.html) to find the determinant of a matrix for us."
      ]
    },
    {
      "cell_type": "markdown",
      "metadata": {
        "id": "VBZZLhNXvdNs"
      },
      "source": [
        "**(i) Determinant of a singular matrix**"
      ]
    },
    {
      "cell_type": "code",
      "metadata": {
        "id": "0gC4B9b5vdNt",
        "outputId": "29e3ea3c-633c-436d-8992-9b60de5f4a8e"
      },
      "source": [
        "# a singular matrix --> det(A) = 0\n",
        "A = np.array([[1, 2],\n",
        "              [2, 4]])\n",
        "np.linalg.det(A)"
      ],
      "execution_count": null,
      "outputs": [
        {
          "output_type": "execute_result",
          "data": {
            "text/plain": [
              "0.0"
            ]
          },
          "metadata": {
            "tags": []
          },
          "execution_count": 39
        }
      ]
    },
    {
      "cell_type": "markdown",
      "metadata": {
        "id": "LRLKb3WVvdNt"
      },
      "source": [
        "**(ii) Determinant of an invertible matrix**"
      ]
    },
    {
      "cell_type": "code",
      "metadata": {
        "id": "-vI5w2JOvdNu",
        "outputId": "cef6a391-7525-4c30-d462-eb406b36baf9"
      },
      "source": [
        "# an invertible matrix --> det(B) not equal to 0\n",
        "B = np.array([[2, -1, 6],\n",
        "              [1, 1, 2],\n",
        "              [3, 1, 2]])\n",
        "np.linalg.det(B).round(2)"
      ],
      "execution_count": null,
      "outputs": [
        {
          "output_type": "execute_result",
          "data": {
            "text/plain": [
              "-16.0"
            ]
          },
          "metadata": {
            "tags": []
          },
          "execution_count": 40
        }
      ]
    },
    {
      "cell_type": "markdown",
      "metadata": {
        "id": "SE5RWUc9vdNv"
      },
      "source": [
        "The inverse of `B` is:"
      ]
    },
    {
      "cell_type": "code",
      "metadata": {
        "id": "UEC0B-iJvdNv",
        "outputId": "bd7355fa-5caa-4fe0-cb81-a776b0109bcd"
      },
      "source": [
        "# inverse of matrix B\n",
        "np.linalg.inv(B)"
      ],
      "execution_count": null,
      "outputs": [
        {
          "output_type": "execute_result",
          "data": {
            "text/plain": [
              "array([[ 0.    , -0.5   ,  0.5   ],\n",
              "       [-0.25  ,  0.875 , -0.125 ],\n",
              "       [ 0.125 ,  0.3125, -0.1875]])"
            ]
          },
          "metadata": {
            "tags": []
          },
          "execution_count": 41
        }
      ]
    },
    {
      "cell_type": "markdown",
      "metadata": {
        "id": "lrCSnzH-vdNw"
      },
      "source": [
        "**(iii) Determinant of the identity matrix, also an invertible matrix**"
      ]
    },
    {
      "cell_type": "code",
      "metadata": {
        "id": "XsswW7tDvdNw",
        "outputId": "20552106-d4f3-4851-8aeb-52a575811da6"
      },
      "source": [
        "# the identity matrix is invertible --> determinant not equal to 0\n",
        "I = np.array([[1, 0, 0],\n",
        "              [0, 1, 0],\n",
        "              [0, 0, 1]])\n",
        "np.linalg.det(I)"
      ],
      "execution_count": null,
      "outputs": [
        {
          "output_type": "execute_result",
          "data": {
            "text/plain": [
              "1.0"
            ]
          },
          "metadata": {
            "tags": []
          },
          "execution_count": 42
        }
      ]
    },
    {
      "cell_type": "markdown",
      "metadata": {
        "id": "OBHLa47bvdNx"
      },
      "source": [
        "The determinant of the identity matrix is always $1$. Unsurprisingly, the inverse of the identity matrix `I` is the identity matrix itself:"
      ]
    },
    {
      "cell_type": "code",
      "metadata": {
        "scrolled": true,
        "id": "HSChNOmovdNx",
        "outputId": "27c024d0-0736-434d-e4d2-0045f0d9d534"
      },
      "source": [
        "np.linalg.inv(I)"
      ],
      "execution_count": null,
      "outputs": [
        {
          "output_type": "execute_result",
          "data": {
            "text/plain": [
              "array([[1., 0., 0.],\n",
              "       [0., 1., 0.],\n",
              "       [0., 0., 1.]])"
            ]
          },
          "metadata": {
            "tags": []
          },
          "execution_count": 43
        }
      ]
    },
    {
      "cell_type": "markdown",
      "metadata": {
        "id": "1hIzPPwxvdNy"
      },
      "source": [
        "Honestly, who can resist the identity matrix?..."
      ]
    },
    {
      "cell_type": "markdown",
      "metadata": {
        "id": "1WkyX4m-vdNy"
      },
      "source": [
        "---"
      ]
    },
    {
      "cell_type": "markdown",
      "metadata": {
        "id": "CFtotkSevdNz"
      },
      "source": [
        "\n",
        "#### Oh and by the way, did you choose your [favourite matrix](https://www.youtube.com/watch?v=1DvlyNjfuzM) already?\n",
        "\n",
        "<img src=\"https://github.com/LDSSA/ds-prep-course-2021/blob/main/Week%2008/SLU13%20-%20Linear%20Algebra%20%26%20NumPy%2C%20Part%202/media/cupcakematrix.jpg?raw=1\" width=\"600\"/>\n",
        "<center>Time for matrix cupcakes!! :D</center>"
      ]
    },
    {
      "cell_type": "markdown",
      "metadata": {
        "id": "5xPBogjovdNz"
      },
      "source": [
        "---"
      ]
    },
    {
      "cell_type": "markdown",
      "metadata": {
        "id": "aW9nZHnevdNz"
      },
      "source": [
        "### 5.2 Finding eigenvalues and eigenvectors"
      ]
    },
    {
      "cell_type": "markdown",
      "metadata": {
        "id": "5az5zS-zvdN0"
      },
      "source": [
        "Let's bring back the equation for the eigenvectors and eigenvalues, $\\mathbf{A}\\mathbf{x} = \\lambda\\mathbf{x}$.\n",
        "\n",
        "We can rearrange the equation to:\n",
        "\n",
        "$$\\mathbf{A}\\mathbf{x}-\\lambda\\mathbf{x} = 0$$\n",
        "\n",
        "Remember that we can write $\\mathbf{I}\\mathbf{x} = \\mathbf{x}$, where $\\mathbf{I}$ is the identity matrix:\n",
        "\n",
        "$$\\mathbf{A}\\mathbf{x}-\\lambda\\mathbf{I}\\mathbf{x} = 0$$\n",
        "\n",
        "We can apply the multiplication properties we've learned on vectors, scalars and matrices and write:\n",
        "\n",
        "$$(\\mathbf{A}-\\lambda\\mathbf{I})\\mathbf{x} = 0$$"
      ]
    },
    {
      "cell_type": "markdown",
      "metadata": {
        "id": "0mzU_APyvdN1"
      },
      "source": [
        "Notice that what we have here is a system of linear equations, of the form $\\mathbf{B}\\mathbf{x} = \\mathbf{b}$, where our vector $\\mathbf{b}$ corresponds to the zero vector, and our matrix $\\mathbf{B}$ corresponds to $\\mathbf{A}-\\lambda\\mathbf{I}$. Indeed, for an $n\\times n$ matrix $\\mathbf{A}$, we could write this as a system of linear equations as follows:\n",
        "\n",
        "$\\left\\{\n",
        "    \\begin{array}{r@r}\n",
        "        (a_{1,1} - \\lambda)x_1 & + &\n",
        "            a_{1,2}x_2 & + &\n",
        "            \\dots & + &\n",
        "            a_{1,n}x_n & = &\n",
        "            0\\\\ \n",
        "        a_{2,1}x_1 & + &\n",
        "            (a_{2,2}-\\lambda)x_2 & + &\n",
        "            \\dots & + &\n",
        "            a_{2,n}x_n & = & \n",
        "            0\\\\ \n",
        "            \\vdots&&\\vdots&&\\ddots&&\\vdots&&\\vdots\\\\\n",
        "        a_{n,1}x_1 & + &\n",
        "            a_{n,2}x_2 & + &\n",
        "            \\dots & + &\n",
        "            (a_{n,n} - \\lambda)x_n & = & 0\n",
        "    \\end{array}\n",
        "\\right.$\n",
        "\n",
        "The zero vector is obviously a solution to this system, **however**, from the definition of eigenvector, what we really want is some vector $\\mathbf{x}\\neq 0$."
      ]
    },
    {
      "cell_type": "markdown",
      "metadata": {
        "id": "AbyxcRLdvdN2"
      },
      "source": [
        "---"
      ]
    },
    {
      "cell_type": "markdown",
      "metadata": {
        "id": "d_UT3dUvvdN2"
      },
      "source": [
        "Because $\\lambda$ is unknown, we don't yet know what's in the matrix $\\mathbf{A}-\\lambda\\mathbf{I}$. But since it is a square matrix, we know it either is invertible (thus it has nonzero determinant) or singular (thus having zero determinant).\n",
        "\n",
        "If it is invertible, then the system can only have one solution, and that would be the zero vector. We therefore need it to be singular, so that we can find some other vector than the zero one. So we need to be able to find $\\lambda$ for which the determinant is zero, $\\det(\\mathbf{A}-\\lambda\\mathbf{I})=0$, which we can rewrite as:\n",
        "\n",
        "$$\\left|\\begin{array}\n",
        "    a_{1,1}-\\lambda & a_{1,2} & \\dots & a_{1,n}\\\\\n",
        "    a_{2,1} & a_{2,2}-\\lambda & \\dots & a_{2,n}\\\\\n",
        "    \\vdots & \\vdots & \\ddots & \\vdots\\\\\n",
        "    a_{n,1} & a_{n,2} & \\dots & a_{n,n}-\\lambda\n",
        "\\end{array}\\right| = 0\n",
        "$$\n",
        "\n",
        "The calculation of the determinant for an $n$-dimensional square matrix is out of scope, however just know that to solve the equation above you would get a **polynomial of degree $n$ on the variable $\\lambda$**.\n",
        "\n",
        "After having each of the eigenvalues $\\lambda_1, \\lambda_2,...$ that solve the polynomial equation, one can find the corresponding eigenvectors by solving the linear system, for each of the eigenvalues found."
      ]
    },
    {
      "cell_type": "markdown",
      "metadata": {
        "id": "CdIugom9vdN3"
      },
      "source": [
        "**Number of eigenvalues for an $n\\times n$ square matrix:**\n",
        "\n",
        "- For a $2\\times 2$ matrix, you can get at most 2 different eigenvalues;\n",
        "\n",
        "- For a $3\\times 3$ singular matrix, you could find at most 3 different eigenvalues;\n",
        "\n",
        "And so on."
      ]
    },
    {
      "cell_type": "markdown",
      "metadata": {
        "id": "LdYvlXuevdN4"
      },
      "source": [
        "---"
      ]
    },
    {
      "cell_type": "markdown",
      "metadata": {
        "id": "jUhZivCjvdN5"
      },
      "source": [
        "Although we won't go into further details, let's just check a very simple case, where we have a triangular matrix:\n",
        "\n",
        "$$\\left|\\begin{array}\n",
        "    a_{1,1}-\\lambda & a_{1,2} & \\dots & a_{1,n}\\\\\n",
        "    0 & a_{2,2}-\\lambda & \\dots & a_{2,n}\\\\\n",
        "    \\vdots & \\vdots & \\ddots & \\vdots\\\\\n",
        "    0 & 0 & \\dots & a_{n,n}-\\lambda\n",
        "\\end{array}\\right| = 0\n",
        "$$\n",
        "\n",
        "In this case, our polynomial equation would come down to:\n",
        "\n",
        "$$(a_{1,1}-\\lambda)(a_{2,2}-\\lambda)\\dots(a_{n,n}-\\lambda) = 0$$\n",
        "\n",
        "Thus, in this particular case, the eigenvalues of $\\mathbf{A}$ are just the entries of the diagonal of $\\mathbf{A}$."
      ]
    },
    {
      "cell_type": "markdown",
      "metadata": {
        "id": "VEqu9ECTvdN6"
      },
      "source": [
        "---"
      ]
    },
    {
      "cell_type": "markdown",
      "metadata": {
        "id": "n9zaGboBvdN7"
      },
      "source": [
        "You can check a visual explanation of **Eigenvectors and Eigenvalues** [here](https://setosa.io/ev/eigenvectors-and-eigenvalues/)."
      ]
    },
    {
      "cell_type": "markdown",
      "metadata": {
        "id": "KrOQW5NfvdN7"
      },
      "source": [
        "---"
      ]
    },
    {
      "cell_type": "markdown",
      "metadata": {
        "id": "aLMPjMSbvdN8"
      },
      "source": [
        "<img src=\"https://github.com/LDSSA/ds-prep-course-2021/blob/main/Week%2008/SLU13%20-%20Linear%20Algebra%20%26%20NumPy%2C%20Part%202/media/thats_a_lot_of_math.gif?raw=1\"/>\n",
        "\n",
        "<br>\n",
        "\n",
        "<br>\n",
        "\n",
        "When working with lots and lots of data, we don't have the time to perform all those calculations by hand... so let's put NumPy to work and compute all the eigen-stuff."
      ]
    },
    {
      "cell_type": "markdown",
      "metadata": {
        "id": "cXTd2kMIvdN9"
      },
      "source": [
        "---"
      ]
    },
    {
      "cell_type": "markdown",
      "metadata": {
        "id": "GpnI0JctvdN9"
      },
      "source": [
        "### 5.3 Finding eigenvalues and eigenvectors with NumPy"
      ]
    },
    {
      "cell_type": "markdown",
      "metadata": {
        "id": "OAo9zrJzvdN-"
      },
      "source": [
        "We can find the eigenvectors and eigenvalues of a matrix using the function [`numpy.linalg.eig()`](https://numpy.org/doc/1.20/reference/generated/numpy.linalg.eig.html). Just a small snippet of code, to do all that math..."
      ]
    },
    {
      "cell_type": "markdown",
      "metadata": {
        "id": "hBJGFS4vvdN-"
      },
      "source": [
        "`numpy.linalg.ein()` takes a **square** array as input and returns:\n",
        "- an array `w` with its eigenvalues;\n",
        "- the normalized (unit “length”) eigenvectors, such that the column `v[:,i]` is an eigenvector corresponding to the eigenvalue `w[i]`."
      ]
    },
    {
      "cell_type": "code",
      "metadata": {
        "id": "cHGcfS_rvdN_",
        "outputId": "492c2018-ea66-4afa-f415-b6b963ceed84"
      },
      "source": [
        "# create a 3x3 matrix using a 2D numpy array\n",
        "A = np.array([[1, 2, 3],\n",
        "              [3, -5, 3],\n",
        "              [6, -6, 4]])\n",
        "\n",
        "# determine the eigenvalues and eigenvectors of matrix A\n",
        "eigenvalues, eigenvectors = np.linalg.eig(A)\n",
        "\n",
        "# display eigenvalues and eigenvectors\n",
        "print(\"eigenvalues of A:\", eigenvalues, \"\\n\")\n",
        "print(\"eigenvectors of A:\\n\", eigenvectors, \"\\n\")"
      ],
      "execution_count": null,
      "outputs": [
        {
          "output_type": "stream",
          "text": [
            "eigenvalues of A: [ 5.89897949 -3.89897949 -2.        ] \n",
            "\n",
            "eigenvectors of A:\n",
            " [[-5.89767825e-01 -5.89767825e-01 -7.07106781e-01]\n",
            " [-3.61157559e-01  3.61157559e-01 -5.96841690e-16]\n",
            " [-7.22315119e-01  7.22315119e-01  7.07106781e-01]] \n",
            "\n"
          ],
          "name": "stdout"
        }
      ]
    },
    {
      "cell_type": "markdown",
      "metadata": {
        "id": "q4PTOBvivdOA"
      },
      "source": [
        "The function `numpy.linalg.eig()` might return the eigenvalues and eigenvector entries as complex numbers...."
      ]
    },
    {
      "cell_type": "markdown",
      "metadata": {
        "id": "VOZoNZqlvdOC"
      },
      "source": [
        "It is indeed possible that you find eigenvalues and eigenvectors with an **imaginary** part. Remember that, to find the $\\lambda$ for which $\\det(\\mathbf{A}-\\lambda\\mathbf{I})=0$, one usually needs to solve a polynomial equation, and some polynomial equations actually have **complex roots**."
      ]
    },
    {
      "cell_type": "markdown",
      "metadata": {
        "id": "Qyv3dHJcvdOD"
      },
      "source": [
        "---"
      ]
    },
    {
      "cell_type": "markdown",
      "metadata": {
        "id": "SpmTucPQvdOE"
      },
      "source": [
        "<img src=\"https://github.com/LDSSA/ds-prep-course-2021/blob/main/Week%2008/SLU13%20-%20Linear%20Algebra%20%26%20NumPy%2C%20Part%202/media/key_of_imagination.gif?raw=1\">"
      ]
    },
    {
      "cell_type": "markdown",
      "metadata": {
        "id": "huD6WlokvdOE"
      },
      "source": [
        "---"
      ]
    },
    {
      "cell_type": "code",
      "metadata": {
        "id": "3guVTtaRvdOF",
        "outputId": "038b08af-7325-4c73-a437-3ef054c0c2ed"
      },
      "source": [
        "# create a 4x4 matrix using a 2D numpy array\n",
        "B = np.array([[2, 0, 0, 0],\n",
        "              [0, 2, 0, 0],\n",
        "              [0, 0, 5, 0],\n",
        "              [0, 0, 0, 4]])\n",
        "\n",
        "# determine the eigenvalues and eigenvectors of square matrix B\n",
        "B_eigenvalues, B_eigenvectors = np.linalg.eig(B)\n",
        "\n",
        "# display eigenvalues and eigenvectors\n",
        "print(\"eigenvalues of B:\", B_eigenvalues, \"\\n\")\n",
        "print(\"eigenvectors of B:\\n\", B_eigenvectors, \"\\n\")"
      ],
      "execution_count": null,
      "outputs": [
        {
          "output_type": "stream",
          "text": [
            "eigenvalues of B: [2. 2. 5. 4.] \n",
            "\n",
            "eigenvectors of B:\n",
            " [[1. 0. 0. 0.]\n",
            " [0. 1. 0. 0.]\n",
            " [0. 0. 1. 0.]\n",
            " [0. 0. 0. 1.]] \n",
            "\n"
          ],
          "name": "stdout"
        }
      ]
    },
    {
      "cell_type": "code",
      "metadata": {
        "scrolled": true,
        "id": "Jk-KkWqTvdOG",
        "outputId": "edc8f281-34bf-447e-e3b4-514c53c7b32b"
      },
      "source": [
        "# create a 3x3 matrix using a 2D numpy array\n",
        "C = np.array([[2, 4, 0],\n",
        "              [4, 2, 0],\n",
        "              [0, 0, 5]])\n",
        "\n",
        "# determine the eigenvalues and eigenvectors of square matrix C\n",
        "C_eigenvalues, C_eigenvectors = np.linalg.eig(C)\n",
        "\n",
        "# display eigenvalues and eigenvectors\n",
        "print(\"eigenvalues of C:\", C_eigenvalues, \"\\n\")\n",
        "print(\"eigenvectors of C:\\n\", C_eigenvectors, \"\\n\")"
      ],
      "execution_count": null,
      "outputs": [
        {
          "output_type": "stream",
          "text": [
            "eigenvalues of C: [ 6. -2.  5.] \n",
            "\n",
            "eigenvectors of C:\n",
            " [[ 0.70710678 -0.70710678  0.        ]\n",
            " [ 0.70710678  0.70710678  0.        ]\n",
            " [ 0.          0.          1.        ]] \n",
            "\n"
          ],
          "name": "stdout"
        }
      ]
    },
    {
      "cell_type": "markdown",
      "metadata": {
        "id": "sEASfBNuvdOH"
      },
      "source": [
        "---"
      ]
    },
    {
      "cell_type": "markdown",
      "metadata": {
        "id": "Pa_Vp_KkvdOI"
      },
      "source": [
        "<img src=\"https://github.com/LDSSA/ds-prep-course-2021/blob/main/Week%2008/SLU13%20-%20Linear%20Algebra%20%26%20NumPy%2C%20Part%202/media/mathematical_enlightenment.gif?raw=1\"/>\n",
        "\n",
        "<br>\n",
        "\n",
        "<center>This is it. You have reached the first stage of mathematical enlightenment.</center>\n",
        "\n",
        "<center>Your life will never be the same again.</center>\n",
        "\n",
        "<br>\n",
        "\n",
        "<center><font size=4>😲😲</font></center>\n",
        "\n",
        "<center>Well you chose, mathematically enlightened you've become.</center>"
      ]
    },
    {
      "cell_type": "markdown",
      "metadata": {
        "id": "T12XcMs4vdOK"
      },
      "source": [
        "---"
      ]
    },
    {
      "cell_type": "markdown",
      "metadata": {
        "id": "sH5B308VvdOM"
      },
      "source": [
        "<br>\n",
        "\n",
        "<br>\n",
        "\n",
        "<br>\n",
        "\n",
        "<center><font size=4>End of optional sections</font></center>\n",
        "\n",
        "<br>\n",
        "\n",
        "<br>\n",
        "\n",
        "<br>"
      ]
    },
    {
      "cell_type": "markdown",
      "metadata": {
        "id": "henGEk8QvdOQ"
      },
      "source": [
        "---"
      ]
    },
    {
      "cell_type": "markdown",
      "metadata": {
        "id": "0n4ZzrlEvdOS"
      },
      "source": [
        "### Reading the matrix form of the multiple linear regression solution"
      ]
    },
    {
      "cell_type": "markdown",
      "metadata": {
        "id": "wSpPIITGvdOT"
      },
      "source": [
        "At the beginning of SLU12, I told you you'd be able to read the matrix form of the general solution to the multiple [linear regression](https://en.wikipedia.org/wiki/Linear_regression) algorithm. Let's do this!\n",
        "\n",
        "In linear regression, you want to find some function to relate an outcome $\\mathbf{y}$ to other phenomena, or variables, such as $\\mathbf{x_1}, \\mathbf{x_2}, \\dots, \\mathbf{x_n}$, using a linear relation:\n",
        "\n",
        "$$\\mathbf{y} = \\beta_1\\mathbf{x_1} + \\dots + \\beta_n\\mathbf{x_n}$$\n",
        "\n",
        "You have a set of data (usually large) $\\mathbf{X}$, a matrix where you store all your observation variables, and $\\mathbf{y}$, a vector with the corresponding outcomes:\n",
        "\n",
        "$$\\begin{array}{c|cccc}\n",
        "y&x_1&x_2&\\dots&x_n\\\\\n",
        "\\hline\n",
        "y_1&x_{1,1}&x_{1,2}&\\dots&x_{1,n}\\\\\n",
        "y_2&x_{2,1}&x_{2,2}&\\dots&x_{2,n}\\\\\n",
        "\\dots&\\dots&\\dots&\\dots&\\dots\\\\\n",
        "y_m&x_{m,1}&x_{m,2}&\\dots&x_{m,n}\\\\\n",
        "\\end{array}$$\n",
        "\n",
        " You want to find the values of the **coefficients** $\\beta_1, \\dots, \\beta_n$, so that when you have a new observation, you can predict $\\mathbf{y}$. But how do we find the \"right\" values of the coefficients?\n",
        "\n",
        "We want the following equalities to be satisfied, *as much as possible*, all at once:\n",
        "\n",
        "$$\\begin{array}{l}\n",
        "y_1=\\beta_1x_{1,1}+\\beta_2x_{1,2}+\\dots+\\beta_nx_{1,n}\\\\\n",
        "y_2=\\beta_1x_{2,1}+\\beta_2x_{2,2}+\\dots+\\beta_nx_{2,n}\\\\\n",
        "\\qquad \\qquad \\dots\\\\\n",
        "y_m=\\beta_1x_{m,1}+\\beta_2x_{m,2}+\\dots+\\beta_nx_{m,n}\\end{array}$$\n",
        "\n",
        "<br>\n",
        "\n",
        "---\n",
        "\n",
        "This is a system of linear equations, thus we can write it in the form:\n",
        "\n",
        "$$\\mathbf{X}\\mathbf{\\beta} = \\mathbf{y}$$\n",
        "\n",
        "**Notice that** now, our $\\mathbf{A}$ is called $\\mathbf{X}$, our $\\mathbf{x}$ is now the $\\mathbf{\\beta}$ and our $\\mathbf{b}$ is now called $\\mathbf{y}$.\n",
        "\n",
        "---\n",
        "\n",
        "Actually, you can't find a *perfect* solution to this in real life. What you'll actually do is try to find a *solution* that is as good as possible. And Mathematics tells us that the best possible solution is given by the equality:\n",
        "\n",
        "$$\\mathbf{\\beta} = (\\mathbf{X}^T\\mathbf{X})^{-1}(\\mathbf{X}^T\\mathbf{y})$$\n",
        "\n",
        "provided that the columns in $\\mathbf{X}$ are linearly independent. That's right, because now you know that $\\mathbf{X}^T\\mathbf{X}$ should be non singular for the inverse to exist!!\n",
        "\n",
        "---\n",
        "\n",
        "⚠️ **Disclaimer:** This is **a simplistic view** of the multiple linear regression algorithm. But as you become more and more comfortable with linear algebra, the easier it will be to read and make sense of matrix equations.\n",
        "\n",
        "<br>\n",
        "\n",
        "```\n",
        "    Some senior data scientist: -\"Thank you for that disclaimer.\"\n",
        "    Instructor: -\"No problem.\"\n",
        "    Student: -\"Hey guys, will I become insane like all the Mathematicians out there, if I do data science?\"\n",
        "    Instructor: -\"You will, but only if you do it the right way...\"\n",
        "```"
      ]
    },
    {
      "cell_type": "markdown",
      "metadata": {
        "id": "9jWx4Y_NvdOV"
      },
      "source": [
        "---"
      ]
    },
    {
      "cell_type": "markdown",
      "metadata": {
        "id": "DYd_lhRCvdOV"
      },
      "source": [
        "<img src=\"https://github.com/LDSSA/ds-prep-course-2021/blob/main/Week%2008/SLU13%20-%20Linear%20Algebra%20%26%20NumPy%2C%20Part%202/media/math_religion.png?raw=1\" width=\"750\"/>"
      ]
    },
    {
      "cell_type": "markdown",
      "metadata": {
        "id": "Eey_JMvcvdOV"
      },
      "source": [
        "---"
      ]
    },
    {
      "cell_type": "markdown",
      "metadata": {
        "id": "Y28ge3TsvdOV"
      },
      "source": [
        "## Wrapping up"
      ]
    },
    {
      "cell_type": "markdown",
      "metadata": {
        "id": "6HFpkcGOvdOW"
      },
      "source": [
        "What we've learned in this notebook:\n",
        "- how to compute the product between two matrices, or a matrix and a vector;\n",
        "- how to determine the inverse of a matrix using NumPy;\n",
        "- useful `ndarray` methods: `.min()`, `.max()`, `.sum()` and `.sort()`;\n",
        "- (for the ones that opted in) solving systems of linear equations and finding the inverse of a matrix, eigenvalues and eigenvectors."
      ]
    },
    {
      "cell_type": "markdown",
      "metadata": {
        "id": "4D9-vAiCvdOW"
      },
      "source": [
        "---"
      ]
    },
    {
      "cell_type": "markdown",
      "metadata": {
        "id": "80OsMJqAvdOX"
      },
      "source": [
        "### Resources on Linear Algebra:\n",
        "\n",
        "- [**3Blue1Brown**](https://www.youtube.com/watch?v=fNk_zzaMoSs&list=PLZHQObOWTQDPD3MizzM2xVFitgF8hE_ab) YouTube Playlist with an intuitive and visual introduction to Linear Algebra;\n",
        "\n",
        "- [**YouTube Playlist for MIT 18.06SC Linear Algebra, Fall 2011**](https://www.youtube.com/watch?v=7UJ4CFRGd-U&list=PL221E2BBF13BECF6C);\n",
        "\n",
        "\n",
        "### Resources on NumPy:\n",
        "\n",
        "* [**NumPy v1.20 Quickstart tutorial**](https://numpy.org/doc/1.20/user/quickstart.html) NumPy's official tutorial;"
      ]
    },
    {
      "cell_type": "markdown",
      "metadata": {
        "id": "VxN3Y-zXvdOX"
      },
      "source": [
        "---"
      ]
    }
  ]
}